{
  "nbformat": 4,
  "nbformat_minor": 0,
  "metadata": {
    "colab": {
      "provenance": []
    },
    "kernelspec": {
      "name": "python3",
      "display_name": "Python 3"
    },
    "language_info": {
      "name": "python"
    }
  },
  "cells": [
    {
      "cell_type": "code",
      "execution_count": 22,
      "metadata": {
        "id": "9eDel94hXlxp"
      },
      "outputs": [],
      "source": [
        "import pyspark"
      ]
    },
    {
      "cell_type": "code",
      "source": [
        "import pandas as pd"
      ],
      "metadata": {
        "id": "KHIOOU1xZqQF"
      },
      "execution_count": 23,
      "outputs": []
    },
    {
      "cell_type": "code",
      "source": [
        "df = pd.read_csv('/content/deliveries.csv')"
      ],
      "metadata": {
        "id": "R3ysIJMhawUm"
      },
      "execution_count": 24,
      "outputs": []
    },
    {
      "cell_type": "code",
      "source": [
        "df.head()"
      ],
      "metadata": {
        "colab": {
          "base_uri": "https://localhost:8080/",
          "height": 399
        },
        "id": "Rr5f0MCnazRD",
        "outputId": "d66acb35-60ef-4de7-b145-c312b2066562"
      },
      "execution_count": 25,
      "outputs": [
        {
          "output_type": "execute_result",
          "data": {
            "text/plain": [
              "   match_id  inning           batting_team                 bowling_team  over  \\\n",
              "0    335982       1  Kolkata Knight Riders  Royal Challengers Bangalore     0   \n",
              "1    335982       1  Kolkata Knight Riders  Royal Challengers Bangalore     0   \n",
              "2    335982       1  Kolkata Knight Riders  Royal Challengers Bangalore     0   \n",
              "3    335982       1  Kolkata Knight Riders  Royal Challengers Bangalore     0   \n",
              "4    335982       1  Kolkata Knight Riders  Royal Challengers Bangalore     0   \n",
              "\n",
              "   ball       batter   bowler  non_striker  batsman_runs  extra_runs  \\\n",
              "0     1   SC Ganguly  P Kumar  BB McCullum             0           1   \n",
              "1     2  BB McCullum  P Kumar   SC Ganguly             0           0   \n",
              "2     3  BB McCullum  P Kumar   SC Ganguly             0           1   \n",
              "3     4  BB McCullum  P Kumar   SC Ganguly             0           0   \n",
              "4     5  BB McCullum  P Kumar   SC Ganguly             0           0   \n",
              "\n",
              "   total_runs extras_type  is_wicket player_dismissed dismissal_kind fielder  \n",
              "0           1     legbyes          0              NaN            NaN     NaN  \n",
              "1           0         NaN          0              NaN            NaN     NaN  \n",
              "2           1       wides          0              NaN            NaN     NaN  \n",
              "3           0         NaN          0              NaN            NaN     NaN  \n",
              "4           0         NaN          0              NaN            NaN     NaN  "
            ],
            "text/html": [
              "\n",
              "  <div id=\"df-6ef5f0a2-a8f4-4b70-98e6-236e80cc5cce\" class=\"colab-df-container\">\n",
              "    <div>\n",
              "<style scoped>\n",
              "    .dataframe tbody tr th:only-of-type {\n",
              "        vertical-align: middle;\n",
              "    }\n",
              "\n",
              "    .dataframe tbody tr th {\n",
              "        vertical-align: top;\n",
              "    }\n",
              "\n",
              "    .dataframe thead th {\n",
              "        text-align: right;\n",
              "    }\n",
              "</style>\n",
              "<table border=\"1\" class=\"dataframe\">\n",
              "  <thead>\n",
              "    <tr style=\"text-align: right;\">\n",
              "      <th></th>\n",
              "      <th>match_id</th>\n",
              "      <th>inning</th>\n",
              "      <th>batting_team</th>\n",
              "      <th>bowling_team</th>\n",
              "      <th>over</th>\n",
              "      <th>ball</th>\n",
              "      <th>batter</th>\n",
              "      <th>bowler</th>\n",
              "      <th>non_striker</th>\n",
              "      <th>batsman_runs</th>\n",
              "      <th>extra_runs</th>\n",
              "      <th>total_runs</th>\n",
              "      <th>extras_type</th>\n",
              "      <th>is_wicket</th>\n",
              "      <th>player_dismissed</th>\n",
              "      <th>dismissal_kind</th>\n",
              "      <th>fielder</th>\n",
              "    </tr>\n",
              "  </thead>\n",
              "  <tbody>\n",
              "    <tr>\n",
              "      <th>0</th>\n",
              "      <td>335982</td>\n",
              "      <td>1</td>\n",
              "      <td>Kolkata Knight Riders</td>\n",
              "      <td>Royal Challengers Bangalore</td>\n",
              "      <td>0</td>\n",
              "      <td>1</td>\n",
              "      <td>SC Ganguly</td>\n",
              "      <td>P Kumar</td>\n",
              "      <td>BB McCullum</td>\n",
              "      <td>0</td>\n",
              "      <td>1</td>\n",
              "      <td>1</td>\n",
              "      <td>legbyes</td>\n",
              "      <td>0</td>\n",
              "      <td>NaN</td>\n",
              "      <td>NaN</td>\n",
              "      <td>NaN</td>\n",
              "    </tr>\n",
              "    <tr>\n",
              "      <th>1</th>\n",
              "      <td>335982</td>\n",
              "      <td>1</td>\n",
              "      <td>Kolkata Knight Riders</td>\n",
              "      <td>Royal Challengers Bangalore</td>\n",
              "      <td>0</td>\n",
              "      <td>2</td>\n",
              "      <td>BB McCullum</td>\n",
              "      <td>P Kumar</td>\n",
              "      <td>SC Ganguly</td>\n",
              "      <td>0</td>\n",
              "      <td>0</td>\n",
              "      <td>0</td>\n",
              "      <td>NaN</td>\n",
              "      <td>0</td>\n",
              "      <td>NaN</td>\n",
              "      <td>NaN</td>\n",
              "      <td>NaN</td>\n",
              "    </tr>\n",
              "    <tr>\n",
              "      <th>2</th>\n",
              "      <td>335982</td>\n",
              "      <td>1</td>\n",
              "      <td>Kolkata Knight Riders</td>\n",
              "      <td>Royal Challengers Bangalore</td>\n",
              "      <td>0</td>\n",
              "      <td>3</td>\n",
              "      <td>BB McCullum</td>\n",
              "      <td>P Kumar</td>\n",
              "      <td>SC Ganguly</td>\n",
              "      <td>0</td>\n",
              "      <td>1</td>\n",
              "      <td>1</td>\n",
              "      <td>wides</td>\n",
              "      <td>0</td>\n",
              "      <td>NaN</td>\n",
              "      <td>NaN</td>\n",
              "      <td>NaN</td>\n",
              "    </tr>\n",
              "    <tr>\n",
              "      <th>3</th>\n",
              "      <td>335982</td>\n",
              "      <td>1</td>\n",
              "      <td>Kolkata Knight Riders</td>\n",
              "      <td>Royal Challengers Bangalore</td>\n",
              "      <td>0</td>\n",
              "      <td>4</td>\n",
              "      <td>BB McCullum</td>\n",
              "      <td>P Kumar</td>\n",
              "      <td>SC Ganguly</td>\n",
              "      <td>0</td>\n",
              "      <td>0</td>\n",
              "      <td>0</td>\n",
              "      <td>NaN</td>\n",
              "      <td>0</td>\n",
              "      <td>NaN</td>\n",
              "      <td>NaN</td>\n",
              "      <td>NaN</td>\n",
              "    </tr>\n",
              "    <tr>\n",
              "      <th>4</th>\n",
              "      <td>335982</td>\n",
              "      <td>1</td>\n",
              "      <td>Kolkata Knight Riders</td>\n",
              "      <td>Royal Challengers Bangalore</td>\n",
              "      <td>0</td>\n",
              "      <td>5</td>\n",
              "      <td>BB McCullum</td>\n",
              "      <td>P Kumar</td>\n",
              "      <td>SC Ganguly</td>\n",
              "      <td>0</td>\n",
              "      <td>0</td>\n",
              "      <td>0</td>\n",
              "      <td>NaN</td>\n",
              "      <td>0</td>\n",
              "      <td>NaN</td>\n",
              "      <td>NaN</td>\n",
              "      <td>NaN</td>\n",
              "    </tr>\n",
              "  </tbody>\n",
              "</table>\n",
              "</div>\n",
              "    <div class=\"colab-df-buttons\">\n",
              "\n",
              "  <div class=\"colab-df-container\">\n",
              "    <button class=\"colab-df-convert\" onclick=\"convertToInteractive('df-6ef5f0a2-a8f4-4b70-98e6-236e80cc5cce')\"\n",
              "            title=\"Convert this dataframe to an interactive table.\"\n",
              "            style=\"display:none;\">\n",
              "\n",
              "  <svg xmlns=\"http://www.w3.org/2000/svg\" height=\"24px\" viewBox=\"0 -960 960 960\">\n",
              "    <path d=\"M120-120v-720h720v720H120Zm60-500h600v-160H180v160Zm220 220h160v-160H400v160Zm0 220h160v-160H400v160ZM180-400h160v-160H180v160Zm440 0h160v-160H620v160ZM180-180h160v-160H180v160Zm440 0h160v-160H620v160Z\"/>\n",
              "  </svg>\n",
              "    </button>\n",
              "\n",
              "  <style>\n",
              "    .colab-df-container {\n",
              "      display:flex;\n",
              "      gap: 12px;\n",
              "    }\n",
              "\n",
              "    .colab-df-convert {\n",
              "      background-color: #E8F0FE;\n",
              "      border: none;\n",
              "      border-radius: 50%;\n",
              "      cursor: pointer;\n",
              "      display: none;\n",
              "      fill: #1967D2;\n",
              "      height: 32px;\n",
              "      padding: 0 0 0 0;\n",
              "      width: 32px;\n",
              "    }\n",
              "\n",
              "    .colab-df-convert:hover {\n",
              "      background-color: #E2EBFA;\n",
              "      box-shadow: 0px 1px 2px rgba(60, 64, 67, 0.3), 0px 1px 3px 1px rgba(60, 64, 67, 0.15);\n",
              "      fill: #174EA6;\n",
              "    }\n",
              "\n",
              "    .colab-df-buttons div {\n",
              "      margin-bottom: 4px;\n",
              "    }\n",
              "\n",
              "    [theme=dark] .colab-df-convert {\n",
              "      background-color: #3B4455;\n",
              "      fill: #D2E3FC;\n",
              "    }\n",
              "\n",
              "    [theme=dark] .colab-df-convert:hover {\n",
              "      background-color: #434B5C;\n",
              "      box-shadow: 0px 1px 3px 1px rgba(0, 0, 0, 0.15);\n",
              "      filter: drop-shadow(0px 1px 2px rgba(0, 0, 0, 0.3));\n",
              "      fill: #FFFFFF;\n",
              "    }\n",
              "  </style>\n",
              "\n",
              "    <script>\n",
              "      const buttonEl =\n",
              "        document.querySelector('#df-6ef5f0a2-a8f4-4b70-98e6-236e80cc5cce button.colab-df-convert');\n",
              "      buttonEl.style.display =\n",
              "        google.colab.kernel.accessAllowed ? 'block' : 'none';\n",
              "\n",
              "      async function convertToInteractive(key) {\n",
              "        const element = document.querySelector('#df-6ef5f0a2-a8f4-4b70-98e6-236e80cc5cce');\n",
              "        const dataTable =\n",
              "          await google.colab.kernel.invokeFunction('convertToInteractive',\n",
              "                                                    [key], {});\n",
              "        if (!dataTable) return;\n",
              "\n",
              "        const docLinkHtml = 'Like what you see? Visit the ' +\n",
              "          '<a target=\"_blank\" href=https://colab.research.google.com/notebooks/data_table.ipynb>data table notebook</a>'\n",
              "          + ' to learn more about interactive tables.';\n",
              "        element.innerHTML = '';\n",
              "        dataTable['output_type'] = 'display_data';\n",
              "        await google.colab.output.renderOutput(dataTable, element);\n",
              "        const docLink = document.createElement('div');\n",
              "        docLink.innerHTML = docLinkHtml;\n",
              "        element.appendChild(docLink);\n",
              "      }\n",
              "    </script>\n",
              "  </div>\n",
              "\n",
              "\n",
              "<div id=\"df-81f6d280-2733-4b43-a3dd-42825ce94237\">\n",
              "  <button class=\"colab-df-quickchart\" onclick=\"quickchart('df-81f6d280-2733-4b43-a3dd-42825ce94237')\"\n",
              "            title=\"Suggest charts\"\n",
              "            style=\"display:none;\">\n",
              "\n",
              "<svg xmlns=\"http://www.w3.org/2000/svg\" height=\"24px\"viewBox=\"0 0 24 24\"\n",
              "     width=\"24px\">\n",
              "    <g>\n",
              "        <path d=\"M19 3H5c-1.1 0-2 .9-2 2v14c0 1.1.9 2 2 2h14c1.1 0 2-.9 2-2V5c0-1.1-.9-2-2-2zM9 17H7v-7h2v7zm4 0h-2V7h2v10zm4 0h-2v-4h2v4z\"/>\n",
              "    </g>\n",
              "</svg>\n",
              "  </button>\n",
              "\n",
              "<style>\n",
              "  .colab-df-quickchart {\n",
              "      --bg-color: #E8F0FE;\n",
              "      --fill-color: #1967D2;\n",
              "      --hover-bg-color: #E2EBFA;\n",
              "      --hover-fill-color: #174EA6;\n",
              "      --disabled-fill-color: #AAA;\n",
              "      --disabled-bg-color: #DDD;\n",
              "  }\n",
              "\n",
              "  [theme=dark] .colab-df-quickchart {\n",
              "      --bg-color: #3B4455;\n",
              "      --fill-color: #D2E3FC;\n",
              "      --hover-bg-color: #434B5C;\n",
              "      --hover-fill-color: #FFFFFF;\n",
              "      --disabled-bg-color: #3B4455;\n",
              "      --disabled-fill-color: #666;\n",
              "  }\n",
              "\n",
              "  .colab-df-quickchart {\n",
              "    background-color: var(--bg-color);\n",
              "    border: none;\n",
              "    border-radius: 50%;\n",
              "    cursor: pointer;\n",
              "    display: none;\n",
              "    fill: var(--fill-color);\n",
              "    height: 32px;\n",
              "    padding: 0;\n",
              "    width: 32px;\n",
              "  }\n",
              "\n",
              "  .colab-df-quickchart:hover {\n",
              "    background-color: var(--hover-bg-color);\n",
              "    box-shadow: 0 1px 2px rgba(60, 64, 67, 0.3), 0 1px 3px 1px rgba(60, 64, 67, 0.15);\n",
              "    fill: var(--button-hover-fill-color);\n",
              "  }\n",
              "\n",
              "  .colab-df-quickchart-complete:disabled,\n",
              "  .colab-df-quickchart-complete:disabled:hover {\n",
              "    background-color: var(--disabled-bg-color);\n",
              "    fill: var(--disabled-fill-color);\n",
              "    box-shadow: none;\n",
              "  }\n",
              "\n",
              "  .colab-df-spinner {\n",
              "    border: 2px solid var(--fill-color);\n",
              "    border-color: transparent;\n",
              "    border-bottom-color: var(--fill-color);\n",
              "    animation:\n",
              "      spin 1s steps(1) infinite;\n",
              "  }\n",
              "\n",
              "  @keyframes spin {\n",
              "    0% {\n",
              "      border-color: transparent;\n",
              "      border-bottom-color: var(--fill-color);\n",
              "      border-left-color: var(--fill-color);\n",
              "    }\n",
              "    20% {\n",
              "      border-color: transparent;\n",
              "      border-left-color: var(--fill-color);\n",
              "      border-top-color: var(--fill-color);\n",
              "    }\n",
              "    30% {\n",
              "      border-color: transparent;\n",
              "      border-left-color: var(--fill-color);\n",
              "      border-top-color: var(--fill-color);\n",
              "      border-right-color: var(--fill-color);\n",
              "    }\n",
              "    40% {\n",
              "      border-color: transparent;\n",
              "      border-right-color: var(--fill-color);\n",
              "      border-top-color: var(--fill-color);\n",
              "    }\n",
              "    60% {\n",
              "      border-color: transparent;\n",
              "      border-right-color: var(--fill-color);\n",
              "    }\n",
              "    80% {\n",
              "      border-color: transparent;\n",
              "      border-right-color: var(--fill-color);\n",
              "      border-bottom-color: var(--fill-color);\n",
              "    }\n",
              "    90% {\n",
              "      border-color: transparent;\n",
              "      border-bottom-color: var(--fill-color);\n",
              "    }\n",
              "  }\n",
              "</style>\n",
              "\n",
              "  <script>\n",
              "    async function quickchart(key) {\n",
              "      const quickchartButtonEl =\n",
              "        document.querySelector('#' + key + ' button');\n",
              "      quickchartButtonEl.disabled = true;  // To prevent multiple clicks.\n",
              "      quickchartButtonEl.classList.add('colab-df-spinner');\n",
              "      try {\n",
              "        const charts = await google.colab.kernel.invokeFunction(\n",
              "            'suggestCharts', [key], {});\n",
              "      } catch (error) {\n",
              "        console.error('Error during call to suggestCharts:', error);\n",
              "      }\n",
              "      quickchartButtonEl.classList.remove('colab-df-spinner');\n",
              "      quickchartButtonEl.classList.add('colab-df-quickchart-complete');\n",
              "    }\n",
              "    (() => {\n",
              "      let quickchartButtonEl =\n",
              "        document.querySelector('#df-81f6d280-2733-4b43-a3dd-42825ce94237 button');\n",
              "      quickchartButtonEl.style.display =\n",
              "        google.colab.kernel.accessAllowed ? 'block' : 'none';\n",
              "    })();\n",
              "  </script>\n",
              "</div>\n",
              "\n",
              "    </div>\n",
              "  </div>\n"
            ],
            "application/vnd.google.colaboratory.intrinsic+json": {
              "type": "dataframe",
              "variable_name": "df"
            }
          },
          "metadata": {},
          "execution_count": 25
        }
      ]
    },
    {
      "cell_type": "code",
      "source": [
        "from pyspark.sql import SparkSession"
      ],
      "metadata": {
        "id": "NEUbs97Ta0yG"
      },
      "execution_count": 26,
      "outputs": []
    },
    {
      "cell_type": "code",
      "source": [
        "spark = SparkSession.builder.appName('Practice').getOrCreate()"
      ],
      "metadata": {
        "id": "L0W4qJOIefQg"
      },
      "execution_count": 27,
      "outputs": []
    },
    {
      "cell_type": "code",
      "source": [
        "spark"
      ],
      "metadata": {
        "colab": {
          "base_uri": "https://localhost:8080/",
          "height": 219
        },
        "id": "S9b9Jra7efOB",
        "outputId": "f98156bb-d535-4e8c-dbfb-1ac6d51ce084"
      },
      "execution_count": 28,
      "outputs": [
        {
          "output_type": "execute_result",
          "data": {
            "text/plain": [
              "<pyspark.sql.session.SparkSession at 0x799a0aed8f70>"
            ],
            "text/html": [
              "\n",
              "            <div>\n",
              "                <p><b>SparkSession - in-memory</b></p>\n",
              "                \n",
              "        <div>\n",
              "            <p><b>SparkContext</b></p>\n",
              "\n",
              "            <p><a href=\"http://08b2a06deb5f:4040\">Spark UI</a></p>\n",
              "\n",
              "            <dl>\n",
              "              <dt>Version</dt>\n",
              "                <dd><code>v3.5.3</code></dd>\n",
              "              <dt>Master</dt>\n",
              "                <dd><code>local[*]</code></dd>\n",
              "              <dt>AppName</dt>\n",
              "                <dd><code>Practice</code></dd>\n",
              "            </dl>\n",
              "        </div>\n",
              "        \n",
              "            </div>\n",
              "        "
            ]
          },
          "metadata": {},
          "execution_count": 28
        }
      ]
    },
    {
      "cell_type": "code",
      "source": [
        "df_pyspark = spark.read.csv('/content/deliveries.csv')"
      ],
      "metadata": {
        "id": "5JhKLsyQefLB"
      },
      "execution_count": 29,
      "outputs": []
    },
    {
      "cell_type": "code",
      "source": [
        "df_pyspark.show()"
      ],
      "metadata": {
        "colab": {
          "base_uri": "https://localhost:8080/"
        },
        "id": "dYVTTS32efIh",
        "outputId": "77393951-6e69-411c-d238-26d7cef1e3d9"
      },
      "execution_count": 30,
      "outputs": [
        {
          "output_type": "stream",
          "name": "stdout",
          "text": [
            "+--------+------+--------------------+--------------------+----+----+-----------+-------+-----------+------------+----------+----------+-----------+---------+----------------+--------------+-------+\n",
            "|     _c0|   _c1|                 _c2|                 _c3| _c4| _c5|        _c6|    _c7|        _c8|         _c9|      _c10|      _c11|       _c12|     _c13|            _c14|          _c15|   _c16|\n",
            "+--------+------+--------------------+--------------------+----+----+-----------+-------+-----------+------------+----------+----------+-----------+---------+----------------+--------------+-------+\n",
            "|match_id|inning|        batting_team|        bowling_team|over|ball|     batter| bowler|non_striker|batsman_runs|extra_runs|total_runs|extras_type|is_wicket|player_dismissed|dismissal_kind|fielder|\n",
            "|  335982|     1|Kolkata Knight Ri...|Royal Challengers...|   0|   1| SC Ganguly|P Kumar|BB McCullum|           0|         1|         1|    legbyes|        0|              NA|            NA|     NA|\n",
            "|  335982|     1|Kolkata Knight Ri...|Royal Challengers...|   0|   2|BB McCullum|P Kumar| SC Ganguly|           0|         0|         0|       NULL|        0|              NA|            NA|     NA|\n",
            "|  335982|     1|Kolkata Knight Ri...|Royal Challengers...|   0|   3|BB McCullum|P Kumar| SC Ganguly|           0|         1|         1|      wides|        0|              NA|            NA|     NA|\n",
            "|  335982|     1|Kolkata Knight Ri...|Royal Challengers...|   0|   4|BB McCullum|P Kumar| SC Ganguly|           0|         0|         0|       NULL|        0|              NA|            NA|     NA|\n",
            "|  335982|     1|Kolkata Knight Ri...|Royal Challengers...|   0|   5|BB McCullum|P Kumar| SC Ganguly|           0|         0|         0|       NULL|        0|              NA|            NA|     NA|\n",
            "|  335982|     1|Kolkata Knight Ri...|Royal Challengers...|   0|   6|BB McCullum|P Kumar| SC Ganguly|           0|         0|         0|       NULL|        0|              NA|            NA|     NA|\n",
            "|  335982|     1|Kolkata Knight Ri...|Royal Challengers...|   0|   7|BB McCullum|P Kumar| SC Ganguly|           0|         1|         1|    legbyes|        0|              NA|            NA|     NA|\n",
            "|  335982|     1|Kolkata Knight Ri...|Royal Challengers...|   1|   1|BB McCullum| Z Khan| SC Ganguly|           0|         0|         0|       NULL|        0|              NA|            NA|     NA|\n",
            "|  335982|     1|Kolkata Knight Ri...|Royal Challengers...|   1|   2|BB McCullum| Z Khan| SC Ganguly|           4|         0|         4|       NULL|        0|              NA|            NA|     NA|\n",
            "|  335982|     1|Kolkata Knight Ri...|Royal Challengers...|   1|   3|BB McCullum| Z Khan| SC Ganguly|           4|         0|         4|       NULL|        0|              NA|            NA|     NA|\n",
            "|  335982|     1|Kolkata Knight Ri...|Royal Challengers...|   1|   4|BB McCullum| Z Khan| SC Ganguly|           6|         0|         6|       NULL|        0|              NA|            NA|     NA|\n",
            "|  335982|     1|Kolkata Knight Ri...|Royal Challengers...|   1|   5|BB McCullum| Z Khan| SC Ganguly|           4|         0|         4|       NULL|        0|              NA|            NA|     NA|\n",
            "|  335982|     1|Kolkata Knight Ri...|Royal Challengers...|   1|   6|BB McCullum| Z Khan| SC Ganguly|           0|         0|         0|       NULL|        0|              NA|            NA|     NA|\n",
            "|  335982|     1|Kolkata Knight Ri...|Royal Challengers...|   2|   1| SC Ganguly|P Kumar|BB McCullum|           0|         0|         0|       NULL|        0|              NA|            NA|     NA|\n",
            "|  335982|     1|Kolkata Knight Ri...|Royal Challengers...|   2|   2| SC Ganguly|P Kumar|BB McCullum|           0|         0|         0|       NULL|        0|              NA|            NA|     NA|\n",
            "|  335982|     1|Kolkata Knight Ri...|Royal Challengers...|   2|   3| SC Ganguly|P Kumar|BB McCullum|           0|         1|         1|    legbyes|        0|              NA|            NA|     NA|\n",
            "|  335982|     1|Kolkata Knight Ri...|Royal Challengers...|   2|   4|BB McCullum|P Kumar| SC Ganguly|           4|         0|         4|       NULL|        0|              NA|            NA|     NA|\n",
            "|  335982|     1|Kolkata Knight Ri...|Royal Challengers...|   2|   5|BB McCullum|P Kumar| SC Ganguly|           1|         0|         1|       NULL|        0|              NA|            NA|     NA|\n",
            "|  335982|     1|Kolkata Knight Ri...|Royal Challengers...|   2|   6| SC Ganguly|P Kumar|BB McCullum|           0|         0|         0|       NULL|        0|              NA|            NA|     NA|\n",
            "+--------+------+--------------------+--------------------+----+----+-----------+-------+-----------+------------+----------+----------+-----------+---------+----------------+--------------+-------+\n",
            "only showing top 20 rows\n",
            "\n"
          ]
        }
      ]
    },
    {
      "cell_type": "code",
      "source": [
        "df_pyspark"
      ],
      "metadata": {
        "colab": {
          "base_uri": "https://localhost:8080/"
        },
        "id": "WW8wjBQLefFh",
        "outputId": "48db8afc-8b92-453d-f437-f84f66eb1f8c"
      },
      "execution_count": 31,
      "outputs": [
        {
          "output_type": "execute_result",
          "data": {
            "text/plain": [
              "DataFrame[_c0: string, _c1: string, _c2: string, _c3: string, _c4: string, _c5: string, _c6: string, _c7: string, _c8: string, _c9: string, _c10: string, _c11: string, _c12: string, _c13: string, _c14: string, _c15: string, _c16: string]"
            ]
          },
          "metadata": {},
          "execution_count": 31
        }
      ]
    },
    {
      "cell_type": "code",
      "source": [
        "df_pyspark = spark.read.csv('/content/deliveries.csv',header=True)"
      ],
      "metadata": {
        "id": "-WR5U_J7qSQC"
      },
      "execution_count": 32,
      "outputs": []
    },
    {
      "cell_type": "code",
      "source": [
        "df_pyspark.show()"
      ],
      "metadata": {
        "colab": {
          "base_uri": "https://localhost:8080/"
        },
        "id": "Zm8FHsrSqdbr",
        "outputId": "e405f4d6-50bc-455d-8a80-bf523846a8ab"
      },
      "execution_count": 33,
      "outputs": [
        {
          "output_type": "stream",
          "name": "stdout",
          "text": [
            "+--------+------+--------------------+--------------------+----+----+-----------+---------+-----------+------------+----------+----------+-----------+---------+----------------+--------------+-------+\n",
            "|match_id|inning|        batting_team|        bowling_team|over|ball|     batter|   bowler|non_striker|batsman_runs|extra_runs|total_runs|extras_type|is_wicket|player_dismissed|dismissal_kind|fielder|\n",
            "+--------+------+--------------------+--------------------+----+----+-----------+---------+-----------+------------+----------+----------+-----------+---------+----------------+--------------+-------+\n",
            "|  335982|     1|Kolkata Knight Ri...|Royal Challengers...|   0|   1| SC Ganguly|  P Kumar|BB McCullum|           0|         1|         1|    legbyes|        0|              NA|            NA|     NA|\n",
            "|  335982|     1|Kolkata Knight Ri...|Royal Challengers...|   0|   2|BB McCullum|  P Kumar| SC Ganguly|           0|         0|         0|       NULL|        0|              NA|            NA|     NA|\n",
            "|  335982|     1|Kolkata Knight Ri...|Royal Challengers...|   0|   3|BB McCullum|  P Kumar| SC Ganguly|           0|         1|         1|      wides|        0|              NA|            NA|     NA|\n",
            "|  335982|     1|Kolkata Knight Ri...|Royal Challengers...|   0|   4|BB McCullum|  P Kumar| SC Ganguly|           0|         0|         0|       NULL|        0|              NA|            NA|     NA|\n",
            "|  335982|     1|Kolkata Knight Ri...|Royal Challengers...|   0|   5|BB McCullum|  P Kumar| SC Ganguly|           0|         0|         0|       NULL|        0|              NA|            NA|     NA|\n",
            "|  335982|     1|Kolkata Knight Ri...|Royal Challengers...|   0|   6|BB McCullum|  P Kumar| SC Ganguly|           0|         0|         0|       NULL|        0|              NA|            NA|     NA|\n",
            "|  335982|     1|Kolkata Knight Ri...|Royal Challengers...|   0|   7|BB McCullum|  P Kumar| SC Ganguly|           0|         1|         1|    legbyes|        0|              NA|            NA|     NA|\n",
            "|  335982|     1|Kolkata Knight Ri...|Royal Challengers...|   1|   1|BB McCullum|   Z Khan| SC Ganguly|           0|         0|         0|       NULL|        0|              NA|            NA|     NA|\n",
            "|  335982|     1|Kolkata Knight Ri...|Royal Challengers...|   1|   2|BB McCullum|   Z Khan| SC Ganguly|           4|         0|         4|       NULL|        0|              NA|            NA|     NA|\n",
            "|  335982|     1|Kolkata Knight Ri...|Royal Challengers...|   1|   3|BB McCullum|   Z Khan| SC Ganguly|           4|         0|         4|       NULL|        0|              NA|            NA|     NA|\n",
            "|  335982|     1|Kolkata Knight Ri...|Royal Challengers...|   1|   4|BB McCullum|   Z Khan| SC Ganguly|           6|         0|         6|       NULL|        0|              NA|            NA|     NA|\n",
            "|  335982|     1|Kolkata Knight Ri...|Royal Challengers...|   1|   5|BB McCullum|   Z Khan| SC Ganguly|           4|         0|         4|       NULL|        0|              NA|            NA|     NA|\n",
            "|  335982|     1|Kolkata Knight Ri...|Royal Challengers...|   1|   6|BB McCullum|   Z Khan| SC Ganguly|           0|         0|         0|       NULL|        0|              NA|            NA|     NA|\n",
            "|  335982|     1|Kolkata Knight Ri...|Royal Challengers...|   2|   1| SC Ganguly|  P Kumar|BB McCullum|           0|         0|         0|       NULL|        0|              NA|            NA|     NA|\n",
            "|  335982|     1|Kolkata Knight Ri...|Royal Challengers...|   2|   2| SC Ganguly|  P Kumar|BB McCullum|           0|         0|         0|       NULL|        0|              NA|            NA|     NA|\n",
            "|  335982|     1|Kolkata Knight Ri...|Royal Challengers...|   2|   3| SC Ganguly|  P Kumar|BB McCullum|           0|         1|         1|    legbyes|        0|              NA|            NA|     NA|\n",
            "|  335982|     1|Kolkata Knight Ri...|Royal Challengers...|   2|   4|BB McCullum|  P Kumar| SC Ganguly|           4|         0|         4|       NULL|        0|              NA|            NA|     NA|\n",
            "|  335982|     1|Kolkata Knight Ri...|Royal Challengers...|   2|   5|BB McCullum|  P Kumar| SC Ganguly|           1|         0|         1|       NULL|        0|              NA|            NA|     NA|\n",
            "|  335982|     1|Kolkata Knight Ri...|Royal Challengers...|   2|   6| SC Ganguly|  P Kumar|BB McCullum|           0|         0|         0|       NULL|        0|              NA|            NA|     NA|\n",
            "|  335982|     1|Kolkata Knight Ri...|Royal Challengers...|   3|   1|BB McCullum|AA Noffke| SC Ganguly|           0|         5|         5|      wides|        0|              NA|            NA|     NA|\n",
            "+--------+------+--------------------+--------------------+----+----+-----------+---------+-----------+------------+----------+----------+-----------+---------+----------------+--------------+-------+\n",
            "only showing top 20 rows\n",
            "\n"
          ]
        }
      ]
    },
    {
      "cell_type": "code",
      "source": [
        "df_pyspark"
      ],
      "metadata": {
        "colab": {
          "base_uri": "https://localhost:8080/"
        },
        "id": "kyOaJ9j6qe76",
        "outputId": "5793abaa-f9d1-44c2-ef16-1fbb67d7c109"
      },
      "execution_count": 34,
      "outputs": [
        {
          "output_type": "execute_result",
          "data": {
            "text/plain": [
              "DataFrame[match_id: string, inning: string, batting_team: string, bowling_team: string, over: string, ball: string, batter: string, bowler: string, non_striker: string, batsman_runs: string, extra_runs: string, total_runs: string, extras_type: string, is_wicket: string, player_dismissed: string, dismissal_kind: string, fielder: string]"
            ]
          },
          "metadata": {},
          "execution_count": 34
        }
      ]
    },
    {
      "cell_type": "code",
      "source": [
        "type(df_pyspark)"
      ],
      "metadata": {
        "colab": {
          "base_uri": "https://localhost:8080/",
          "height": 186
        },
        "id": "WvGvY709qkna",
        "outputId": "7a60cee3-6aa8-487f-ad5f-6c48107e802f"
      },
      "execution_count": 35,
      "outputs": [
        {
          "output_type": "execute_result",
          "data": {
            "text/plain": [
              "pyspark.sql.dataframe.DataFrame"
            ],
            "text/html": [
              "<div style=\"max-width:800px; border: 1px solid var(--colab-border-color);\"><style>\n",
              "      pre.function-repr-contents {\n",
              "        overflow-x: auto;\n",
              "        padding: 8px 12px;\n",
              "        max-height: 500px;\n",
              "      }\n",
              "\n",
              "      pre.function-repr-contents.function-repr-contents-collapsed {\n",
              "        cursor: pointer;\n",
              "        max-height: 100px;\n",
              "      }\n",
              "    </style>\n",
              "    <pre style=\"white-space: initial; background:\n",
              "         var(--colab-secondary-surface-color); padding: 8px 12px;\n",
              "         border-bottom: 1px solid var(--colab-border-color);\"><b>pyspark.sql.dataframe.DataFrame</b><br/>def __init__(jdf: JavaObject, sql_ctx: Union[&#x27;SQLContext&#x27;, &#x27;SparkSession&#x27;])</pre><pre class=\"function-repr-contents function-repr-contents-collapsed\" style=\"\"><a class=\"filepath\" style=\"display:none\" href=\"#\">/usr/local/lib/python3.10/dist-packages/pyspark/sql/dataframe.py</a>A distributed collection of data grouped into named columns.\n",
              "\n",
              ".. versionadded:: 1.3.0\n",
              "\n",
              ".. versionchanged:: 3.4.0\n",
              "    Supports Spark Connect.\n",
              "\n",
              "Examples\n",
              "--------\n",
              "A :class:`DataFrame` is equivalent to a relational table in Spark SQL,\n",
              "and can be created using various functions in :class:`SparkSession`:\n",
              "\n",
              "&gt;&gt;&gt; people = spark.createDataFrame([\n",
              "...     {&quot;deptId&quot;: 1, &quot;age&quot;: 40, &quot;name&quot;: &quot;Hyukjin Kwon&quot;, &quot;gender&quot;: &quot;M&quot;, &quot;salary&quot;: 50},\n",
              "...     {&quot;deptId&quot;: 1, &quot;age&quot;: 50, &quot;name&quot;: &quot;Takuya Ueshin&quot;, &quot;gender&quot;: &quot;M&quot;, &quot;salary&quot;: 100},\n",
              "...     {&quot;deptId&quot;: 2, &quot;age&quot;: 60, &quot;name&quot;: &quot;Xinrong Meng&quot;, &quot;gender&quot;: &quot;F&quot;, &quot;salary&quot;: 150},\n",
              "...     {&quot;deptId&quot;: 3, &quot;age&quot;: 20, &quot;name&quot;: &quot;Haejoon Lee&quot;, &quot;gender&quot;: &quot;M&quot;, &quot;salary&quot;: 200}\n",
              "... ])\n",
              "\n",
              "Once created, it can be manipulated using the various domain-specific-language\n",
              "(DSL) functions defined in: :class:`DataFrame`, :class:`Column`.\n",
              "\n",
              "To select a column from the :class:`DataFrame`, use the apply method:\n",
              "\n",
              "&gt;&gt;&gt; age_col = people.age\n",
              "\n",
              "A more concrete example:\n",
              "\n",
              "&gt;&gt;&gt; # To create DataFrame using SparkSession\n",
              "... department = spark.createDataFrame([\n",
              "...     {&quot;id&quot;: 1, &quot;name&quot;: &quot;PySpark&quot;},\n",
              "...     {&quot;id&quot;: 2, &quot;name&quot;: &quot;ML&quot;},\n",
              "...     {&quot;id&quot;: 3, &quot;name&quot;: &quot;Spark SQL&quot;}\n",
              "... ])\n",
              "\n",
              "&gt;&gt;&gt; people.filter(people.age &gt; 30).join(\n",
              "...     department, people.deptId == department.id).groupBy(\n",
              "...     department.name, &quot;gender&quot;).agg({&quot;salary&quot;: &quot;avg&quot;, &quot;age&quot;: &quot;max&quot;}).show()\n",
              "+-------+------+-----------+--------+\n",
              "|   name|gender|avg(salary)|max(age)|\n",
              "+-------+------+-----------+--------+\n",
              "|     ML|     F|      150.0|      60|\n",
              "|PySpark|     M|       75.0|      50|\n",
              "+-------+------+-----------+--------+\n",
              "\n",
              "Notes\n",
              "-----\n",
              "A DataFrame should only be created as described above. It should not be directly\n",
              "created via using the constructor.</pre>\n",
              "      <script>\n",
              "      if (google.colab.kernel.accessAllowed && google.colab.files && google.colab.files.view) {\n",
              "        for (const element of document.querySelectorAll('.filepath')) {\n",
              "          element.style.display = 'block'\n",
              "          element.onclick = (event) => {\n",
              "            event.preventDefault();\n",
              "            event.stopPropagation();\n",
              "            google.colab.files.view(element.textContent, 80);\n",
              "          };\n",
              "        }\n",
              "      }\n",
              "      for (const element of document.querySelectorAll('.function-repr-contents')) {\n",
              "        element.onclick = (event) => {\n",
              "          event.preventDefault();\n",
              "          event.stopPropagation();\n",
              "          element.classList.toggle('function-repr-contents-collapsed');\n",
              "        };\n",
              "      }\n",
              "      </script>\n",
              "      </div>"
            ]
          },
          "metadata": {},
          "execution_count": 35
        }
      ]
    },
    {
      "cell_type": "code",
      "source": [
        "df_pyspark.head(5)"
      ],
      "metadata": {
        "colab": {
          "base_uri": "https://localhost:8080/"
        },
        "id": "17jRF4EhqwA6",
        "outputId": "994860fe-aae1-4179-ec5b-acdd1717a83c"
      },
      "execution_count": 36,
      "outputs": [
        {
          "output_type": "execute_result",
          "data": {
            "text/plain": [
              "[Row(match_id='335982', inning='1', batting_team='Kolkata Knight Riders', bowling_team='Royal Challengers Bangalore', over='0', ball='1', batter='SC Ganguly', bowler='P Kumar', non_striker='BB McCullum', batsman_runs='0', extra_runs='1', total_runs='1', extras_type='legbyes', is_wicket='0', player_dismissed='NA', dismissal_kind='NA', fielder='NA'),\n",
              " Row(match_id='335982', inning='1', batting_team='Kolkata Knight Riders', bowling_team='Royal Challengers Bangalore', over='0', ball='2', batter='BB McCullum', bowler='P Kumar', non_striker='SC Ganguly', batsman_runs='0', extra_runs='0', total_runs='0', extras_type=None, is_wicket='0', player_dismissed='NA', dismissal_kind='NA', fielder='NA'),\n",
              " Row(match_id='335982', inning='1', batting_team='Kolkata Knight Riders', bowling_team='Royal Challengers Bangalore', over='0', ball='3', batter='BB McCullum', bowler='P Kumar', non_striker='SC Ganguly', batsman_runs='0', extra_runs='1', total_runs='1', extras_type='wides', is_wicket='0', player_dismissed='NA', dismissal_kind='NA', fielder='NA'),\n",
              " Row(match_id='335982', inning='1', batting_team='Kolkata Knight Riders', bowling_team='Royal Challengers Bangalore', over='0', ball='4', batter='BB McCullum', bowler='P Kumar', non_striker='SC Ganguly', batsman_runs='0', extra_runs='0', total_runs='0', extras_type=None, is_wicket='0', player_dismissed='NA', dismissal_kind='NA', fielder='NA'),\n",
              " Row(match_id='335982', inning='1', batting_team='Kolkata Knight Riders', bowling_team='Royal Challengers Bangalore', over='0', ball='5', batter='BB McCullum', bowler='P Kumar', non_striker='SC Ganguly', batsman_runs='0', extra_runs='0', total_runs='0', extras_type=None, is_wicket='0', player_dismissed='NA', dismissal_kind='NA', fielder='NA')]"
            ]
          },
          "metadata": {},
          "execution_count": 36
        }
      ]
    },
    {
      "cell_type": "code",
      "source": [
        "df_pyspark.printSchema() # similar to df.info()\n",
        "## by default the columns are string, we have to add one more parameter"
      ],
      "metadata": {
        "colab": {
          "base_uri": "https://localhost:8080/"
        },
        "id": "rynDxlDnrD4K",
        "outputId": "5d51ea5b-e250-48e7-a1c0-7e242a494574"
      },
      "execution_count": 37,
      "outputs": [
        {
          "output_type": "stream",
          "name": "stdout",
          "text": [
            "root\n",
            " |-- match_id: string (nullable = true)\n",
            " |-- inning: string (nullable = true)\n",
            " |-- batting_team: string (nullable = true)\n",
            " |-- bowling_team: string (nullable = true)\n",
            " |-- over: string (nullable = true)\n",
            " |-- ball: string (nullable = true)\n",
            " |-- batter: string (nullable = true)\n",
            " |-- bowler: string (nullable = true)\n",
            " |-- non_striker: string (nullable = true)\n",
            " |-- batsman_runs: string (nullable = true)\n",
            " |-- extra_runs: string (nullable = true)\n",
            " |-- total_runs: string (nullable = true)\n",
            " |-- extras_type: string (nullable = true)\n",
            " |-- is_wicket: string (nullable = true)\n",
            " |-- player_dismissed: string (nullable = true)\n",
            " |-- dismissal_kind: string (nullable = true)\n",
            " |-- fielder: string (nullable = true)\n",
            "\n"
          ]
        }
      ]
    },
    {
      "cell_type": "code",
      "source": [
        "spark.read.option('header','true').csv('/content/deliveries.csv').show()"
      ],
      "metadata": {
        "colab": {
          "base_uri": "https://localhost:8080/"
        },
        "id": "jmopIFVirI2y",
        "outputId": "413479ba-6eb9-4e20-b415-66b5be74724e"
      },
      "execution_count": 38,
      "outputs": [
        {
          "output_type": "stream",
          "name": "stdout",
          "text": [
            "+--------+------+--------------------+--------------------+----+----+-----------+---------+-----------+------------+----------+----------+-----------+---------+----------------+--------------+-------+\n",
            "|match_id|inning|        batting_team|        bowling_team|over|ball|     batter|   bowler|non_striker|batsman_runs|extra_runs|total_runs|extras_type|is_wicket|player_dismissed|dismissal_kind|fielder|\n",
            "+--------+------+--------------------+--------------------+----+----+-----------+---------+-----------+------------+----------+----------+-----------+---------+----------------+--------------+-------+\n",
            "|  335982|     1|Kolkata Knight Ri...|Royal Challengers...|   0|   1| SC Ganguly|  P Kumar|BB McCullum|           0|         1|         1|    legbyes|        0|              NA|            NA|     NA|\n",
            "|  335982|     1|Kolkata Knight Ri...|Royal Challengers...|   0|   2|BB McCullum|  P Kumar| SC Ganguly|           0|         0|         0|       NULL|        0|              NA|            NA|     NA|\n",
            "|  335982|     1|Kolkata Knight Ri...|Royal Challengers...|   0|   3|BB McCullum|  P Kumar| SC Ganguly|           0|         1|         1|      wides|        0|              NA|            NA|     NA|\n",
            "|  335982|     1|Kolkata Knight Ri...|Royal Challengers...|   0|   4|BB McCullum|  P Kumar| SC Ganguly|           0|         0|         0|       NULL|        0|              NA|            NA|     NA|\n",
            "|  335982|     1|Kolkata Knight Ri...|Royal Challengers...|   0|   5|BB McCullum|  P Kumar| SC Ganguly|           0|         0|         0|       NULL|        0|              NA|            NA|     NA|\n",
            "|  335982|     1|Kolkata Knight Ri...|Royal Challengers...|   0|   6|BB McCullum|  P Kumar| SC Ganguly|           0|         0|         0|       NULL|        0|              NA|            NA|     NA|\n",
            "|  335982|     1|Kolkata Knight Ri...|Royal Challengers...|   0|   7|BB McCullum|  P Kumar| SC Ganguly|           0|         1|         1|    legbyes|        0|              NA|            NA|     NA|\n",
            "|  335982|     1|Kolkata Knight Ri...|Royal Challengers...|   1|   1|BB McCullum|   Z Khan| SC Ganguly|           0|         0|         0|       NULL|        0|              NA|            NA|     NA|\n",
            "|  335982|     1|Kolkata Knight Ri...|Royal Challengers...|   1|   2|BB McCullum|   Z Khan| SC Ganguly|           4|         0|         4|       NULL|        0|              NA|            NA|     NA|\n",
            "|  335982|     1|Kolkata Knight Ri...|Royal Challengers...|   1|   3|BB McCullum|   Z Khan| SC Ganguly|           4|         0|         4|       NULL|        0|              NA|            NA|     NA|\n",
            "|  335982|     1|Kolkata Knight Ri...|Royal Challengers...|   1|   4|BB McCullum|   Z Khan| SC Ganguly|           6|         0|         6|       NULL|        0|              NA|            NA|     NA|\n",
            "|  335982|     1|Kolkata Knight Ri...|Royal Challengers...|   1|   5|BB McCullum|   Z Khan| SC Ganguly|           4|         0|         4|       NULL|        0|              NA|            NA|     NA|\n",
            "|  335982|     1|Kolkata Knight Ri...|Royal Challengers...|   1|   6|BB McCullum|   Z Khan| SC Ganguly|           0|         0|         0|       NULL|        0|              NA|            NA|     NA|\n",
            "|  335982|     1|Kolkata Knight Ri...|Royal Challengers...|   2|   1| SC Ganguly|  P Kumar|BB McCullum|           0|         0|         0|       NULL|        0|              NA|            NA|     NA|\n",
            "|  335982|     1|Kolkata Knight Ri...|Royal Challengers...|   2|   2| SC Ganguly|  P Kumar|BB McCullum|           0|         0|         0|       NULL|        0|              NA|            NA|     NA|\n",
            "|  335982|     1|Kolkata Knight Ri...|Royal Challengers...|   2|   3| SC Ganguly|  P Kumar|BB McCullum|           0|         1|         1|    legbyes|        0|              NA|            NA|     NA|\n",
            "|  335982|     1|Kolkata Knight Ri...|Royal Challengers...|   2|   4|BB McCullum|  P Kumar| SC Ganguly|           4|         0|         4|       NULL|        0|              NA|            NA|     NA|\n",
            "|  335982|     1|Kolkata Knight Ri...|Royal Challengers...|   2|   5|BB McCullum|  P Kumar| SC Ganguly|           1|         0|         1|       NULL|        0|              NA|            NA|     NA|\n",
            "|  335982|     1|Kolkata Knight Ri...|Royal Challengers...|   2|   6| SC Ganguly|  P Kumar|BB McCullum|           0|         0|         0|       NULL|        0|              NA|            NA|     NA|\n",
            "|  335982|     1|Kolkata Knight Ri...|Royal Challengers...|   3|   1|BB McCullum|AA Noffke| SC Ganguly|           0|         5|         5|      wides|        0|              NA|            NA|     NA|\n",
            "+--------+------+--------------------+--------------------+----+----+-----------+---------+-----------+------------+----------+----------+-----------+---------+----------------+--------------+-------+\n",
            "only showing top 20 rows\n",
            "\n"
          ]
        }
      ]
    },
    {
      "cell_type": "code",
      "source": [
        "df_pyspark = spark.read.option('header','true').csv('/content/deliveries.csv',inferSchema=True)"
      ],
      "metadata": {
        "id": "Ps7BHrgytHGp"
      },
      "execution_count": 39,
      "outputs": []
    },
    {
      "cell_type": "code",
      "source": [
        "df_pyspark.printSchema()"
      ],
      "metadata": {
        "colab": {
          "base_uri": "https://localhost:8080/"
        },
        "id": "47BM_y2FtpPi",
        "outputId": "0785bc03-afa3-4cc8-cc0e-4e1d64096973"
      },
      "execution_count": 40,
      "outputs": [
        {
          "output_type": "stream",
          "name": "stdout",
          "text": [
            "root\n",
            " |-- match_id: integer (nullable = true)\n",
            " |-- inning: integer (nullable = true)\n",
            " |-- batting_team: string (nullable = true)\n",
            " |-- bowling_team: string (nullable = true)\n",
            " |-- over: integer (nullable = true)\n",
            " |-- ball: integer (nullable = true)\n",
            " |-- batter: string (nullable = true)\n",
            " |-- bowler: string (nullable = true)\n",
            " |-- non_striker: string (nullable = true)\n",
            " |-- batsman_runs: integer (nullable = true)\n",
            " |-- extra_runs: integer (nullable = true)\n",
            " |-- total_runs: integer (nullable = true)\n",
            " |-- extras_type: string (nullable = true)\n",
            " |-- is_wicket: integer (nullable = true)\n",
            " |-- player_dismissed: string (nullable = true)\n",
            " |-- dismissal_kind: string (nullable = true)\n",
            " |-- fielder: string (nullable = true)\n",
            "\n"
          ]
        }
      ]
    },
    {
      "cell_type": "code",
      "source": [
        "df_pyspark.select(['match_id','inning']).show()"
      ],
      "metadata": {
        "colab": {
          "base_uri": "https://localhost:8080/"
        },
        "id": "gQLz92lftrCK",
        "outputId": "a0bd7bd3-1442-4188-f447-3933d281b3b9"
      },
      "execution_count": 41,
      "outputs": [
        {
          "output_type": "stream",
          "name": "stdout",
          "text": [
            "+--------+------+\n",
            "|match_id|inning|\n",
            "+--------+------+\n",
            "|  335982|     1|\n",
            "|  335982|     1|\n",
            "|  335982|     1|\n",
            "|  335982|     1|\n",
            "|  335982|     1|\n",
            "|  335982|     1|\n",
            "|  335982|     1|\n",
            "|  335982|     1|\n",
            "|  335982|     1|\n",
            "|  335982|     1|\n",
            "|  335982|     1|\n",
            "|  335982|     1|\n",
            "|  335982|     1|\n",
            "|  335982|     1|\n",
            "|  335982|     1|\n",
            "|  335982|     1|\n",
            "|  335982|     1|\n",
            "|  335982|     1|\n",
            "|  335982|     1|\n",
            "|  335982|     1|\n",
            "+--------+------+\n",
            "only showing top 20 rows\n",
            "\n"
          ]
        }
      ]
    },
    {
      "cell_type": "code",
      "source": [
        "df_pyspark.dtypes"
      ],
      "metadata": {
        "colab": {
          "base_uri": "https://localhost:8080/"
        },
        "id": "oKSydP0fubUt",
        "outputId": "f5eac154-a9e6-4f45-d299-92869e603f60"
      },
      "execution_count": 42,
      "outputs": [
        {
          "output_type": "execute_result",
          "data": {
            "text/plain": [
              "[('match_id', 'int'),\n",
              " ('inning', 'int'),\n",
              " ('batting_team', 'string'),\n",
              " ('bowling_team', 'string'),\n",
              " ('over', 'int'),\n",
              " ('ball', 'int'),\n",
              " ('batter', 'string'),\n",
              " ('bowler', 'string'),\n",
              " ('non_striker', 'string'),\n",
              " ('batsman_runs', 'int'),\n",
              " ('extra_runs', 'int'),\n",
              " ('total_runs', 'int'),\n",
              " ('extras_type', 'string'),\n",
              " ('is_wicket', 'int'),\n",
              " ('player_dismissed', 'string'),\n",
              " ('dismissal_kind', 'string'),\n",
              " ('fielder', 'string')]"
            ]
          },
          "metadata": {},
          "execution_count": 42
        }
      ]
    },
    {
      "cell_type": "code",
      "source": [
        "df_pyspark.describe().show()"
      ],
      "metadata": {
        "colab": {
          "base_uri": "https://localhost:8080/"
        },
        "id": "NUfiwR6qu2dL",
        "outputId": "4ed381a7-6d45-4916-98ca-b81052d3c9f8"
      },
      "execution_count": 43,
      "outputs": [
        {
          "output_type": "stream",
          "name": "stdout",
          "text": [
            "+-------+-----------------+------------------+-------------------+-------------------+-----------------+------------------+--------------+--------------+--------------+-----------------+-------------------+------------------+-----------+--------------------+----------------+--------------+--------------+\n",
            "|summary|         match_id|            inning|       batting_team|       bowling_team|             over|              ball|        batter|        bowler|   non_striker|     batsman_runs|         extra_runs|        total_runs|extras_type|           is_wicket|player_dismissed|dismissal_kind|       fielder|\n",
            "+-------+-----------------+------------------+-------------------+-------------------+-----------------+------------------+--------------+--------------+--------------+-----------------+-------------------+------------------+-----------+--------------------+----------------+--------------+--------------+\n",
            "|  count|           260920|            260920|             260920|             260920|           260920|            260920|        260920|        260920|        260920|           260920|             260920|            260920|      14125|              260920|          260920|        260920|        260920|\n",
            "|   mean|907066.5060861567|1.4835313506055496|                1.0|               NULL|9.197677449026521|3.6244864326230264|          NULL|          NULL|          NULL|1.265000766518473|0.06780622413000154|1.3328069906484745|       NULL|0.049632071132914304|            NULL|          NULL|          NULL|\n",
            "| stddev|367991.2782546257|0.5026432007645125|               NULL|               NULL|5.683483718472664|1.8149204567809898|          NULL|          NULL|          NULL|1.639297646583458|0.34326534647494633|1.6264158413973289|       NULL| 0.21718404505666034|            NULL|          NULL|          NULL|\n",
            "|    min|           335982|                 1|                  1|Chennai Super Kings|                0|                 1|A Ashish Reddy|A Ashish Reddy|A Ashish Reddy|                0|                  0|                 0|       byes|                   0|  A Ashish Reddy|            NA|A Ashish Reddy|\n",
            "|    max|          1426312|                 6|Sunrisers Hyderabad|Sunrisers Hyderabad|               19|                11|        Z Khan|        Z Khan|        Z Khan|                6|                  7|                 7|      wides|                   1|          Z Khan|       stumped|        Z Khan|\n",
            "+-------+-----------------+------------------+-------------------+-------------------+-----------------+------------------+--------------+--------------+--------------+-----------------+-------------------+------------------+-----------+--------------------+----------------+--------------+--------------+\n",
            "\n"
          ]
        }
      ]
    },
    {
      "cell_type": "code",
      "source": [
        "df_pyspark = df_pyspark.withColumn('new_col',df_pyspark['total_runs']/2)"
      ],
      "metadata": {
        "id": "_56-WLviu9EZ"
      },
      "execution_count": 44,
      "outputs": []
    },
    {
      "cell_type": "code",
      "source": [
        "df_pyspark.show()"
      ],
      "metadata": {
        "colab": {
          "base_uri": "https://localhost:8080/"
        },
        "id": "MPdF2OnuwJ1J",
        "outputId": "372b11ed-2a78-4a03-d5a6-6e1bdc1b81c5"
      },
      "execution_count": 46,
      "outputs": [
        {
          "output_type": "stream",
          "name": "stdout",
          "text": [
            "+--------+------+--------------------+--------------------+----+----+-----------+---------+-----------+------------+----------+----------+-----------+---------+----------------+--------------+-------+-------+\n",
            "|match_id|inning|        batting_team|        bowling_team|over|ball|     batter|   bowler|non_striker|batsman_runs|extra_runs|total_runs|extras_type|is_wicket|player_dismissed|dismissal_kind|fielder|new_col|\n",
            "+--------+------+--------------------+--------------------+----+----+-----------+---------+-----------+------------+----------+----------+-----------+---------+----------------+--------------+-------+-------+\n",
            "|  335982|     1|Kolkata Knight Ri...|Royal Challengers...|   0|   1| SC Ganguly|  P Kumar|BB McCullum|           0|         1|         1|    legbyes|        0|              NA|            NA|     NA|    0.5|\n",
            "|  335982|     1|Kolkata Knight Ri...|Royal Challengers...|   0|   2|BB McCullum|  P Kumar| SC Ganguly|           0|         0|         0|       NULL|        0|              NA|            NA|     NA|    0.0|\n",
            "|  335982|     1|Kolkata Knight Ri...|Royal Challengers...|   0|   3|BB McCullum|  P Kumar| SC Ganguly|           0|         1|         1|      wides|        0|              NA|            NA|     NA|    0.5|\n",
            "|  335982|     1|Kolkata Knight Ri...|Royal Challengers...|   0|   4|BB McCullum|  P Kumar| SC Ganguly|           0|         0|         0|       NULL|        0|              NA|            NA|     NA|    0.0|\n",
            "|  335982|     1|Kolkata Knight Ri...|Royal Challengers...|   0|   5|BB McCullum|  P Kumar| SC Ganguly|           0|         0|         0|       NULL|        0|              NA|            NA|     NA|    0.0|\n",
            "|  335982|     1|Kolkata Knight Ri...|Royal Challengers...|   0|   6|BB McCullum|  P Kumar| SC Ganguly|           0|         0|         0|       NULL|        0|              NA|            NA|     NA|    0.0|\n",
            "|  335982|     1|Kolkata Knight Ri...|Royal Challengers...|   0|   7|BB McCullum|  P Kumar| SC Ganguly|           0|         1|         1|    legbyes|        0|              NA|            NA|     NA|    0.5|\n",
            "|  335982|     1|Kolkata Knight Ri...|Royal Challengers...|   1|   1|BB McCullum|   Z Khan| SC Ganguly|           0|         0|         0|       NULL|        0|              NA|            NA|     NA|    0.0|\n",
            "|  335982|     1|Kolkata Knight Ri...|Royal Challengers...|   1|   2|BB McCullum|   Z Khan| SC Ganguly|           4|         0|         4|       NULL|        0|              NA|            NA|     NA|    2.0|\n",
            "|  335982|     1|Kolkata Knight Ri...|Royal Challengers...|   1|   3|BB McCullum|   Z Khan| SC Ganguly|           4|         0|         4|       NULL|        0|              NA|            NA|     NA|    2.0|\n",
            "|  335982|     1|Kolkata Knight Ri...|Royal Challengers...|   1|   4|BB McCullum|   Z Khan| SC Ganguly|           6|         0|         6|       NULL|        0|              NA|            NA|     NA|    3.0|\n",
            "|  335982|     1|Kolkata Knight Ri...|Royal Challengers...|   1|   5|BB McCullum|   Z Khan| SC Ganguly|           4|         0|         4|       NULL|        0|              NA|            NA|     NA|    2.0|\n",
            "|  335982|     1|Kolkata Knight Ri...|Royal Challengers...|   1|   6|BB McCullum|   Z Khan| SC Ganguly|           0|         0|         0|       NULL|        0|              NA|            NA|     NA|    0.0|\n",
            "|  335982|     1|Kolkata Knight Ri...|Royal Challengers...|   2|   1| SC Ganguly|  P Kumar|BB McCullum|           0|         0|         0|       NULL|        0|              NA|            NA|     NA|    0.0|\n",
            "|  335982|     1|Kolkata Knight Ri...|Royal Challengers...|   2|   2| SC Ganguly|  P Kumar|BB McCullum|           0|         0|         0|       NULL|        0|              NA|            NA|     NA|    0.0|\n",
            "|  335982|     1|Kolkata Knight Ri...|Royal Challengers...|   2|   3| SC Ganguly|  P Kumar|BB McCullum|           0|         1|         1|    legbyes|        0|              NA|            NA|     NA|    0.5|\n",
            "|  335982|     1|Kolkata Knight Ri...|Royal Challengers...|   2|   4|BB McCullum|  P Kumar| SC Ganguly|           4|         0|         4|       NULL|        0|              NA|            NA|     NA|    2.0|\n",
            "|  335982|     1|Kolkata Knight Ri...|Royal Challengers...|   2|   5|BB McCullum|  P Kumar| SC Ganguly|           1|         0|         1|       NULL|        0|              NA|            NA|     NA|    0.5|\n",
            "|  335982|     1|Kolkata Knight Ri...|Royal Challengers...|   2|   6| SC Ganguly|  P Kumar|BB McCullum|           0|         0|         0|       NULL|        0|              NA|            NA|     NA|    0.0|\n",
            "|  335982|     1|Kolkata Knight Ri...|Royal Challengers...|   3|   1|BB McCullum|AA Noffke| SC Ganguly|           0|         5|         5|      wides|        0|              NA|            NA|     NA|    2.5|\n",
            "+--------+------+--------------------+--------------------+----+----+-----------+---------+-----------+------------+----------+----------+-----------+---------+----------------+--------------+-------+-------+\n",
            "only showing top 20 rows\n",
            "\n"
          ]
        }
      ]
    },
    {
      "cell_type": "code",
      "source": [
        "df_pyspark.select(['new_col']).show()"
      ],
      "metadata": {
        "colab": {
          "base_uri": "https://localhost:8080/"
        },
        "id": "m0JPCYzrwNu5",
        "outputId": "d33f4113-30fa-4d89-84b0-3cca1d2a66bd"
      },
      "execution_count": 48,
      "outputs": [
        {
          "output_type": "stream",
          "name": "stdout",
          "text": [
            "+-------+\n",
            "|new_col|\n",
            "+-------+\n",
            "|    0.5|\n",
            "|    0.0|\n",
            "|    0.5|\n",
            "|    0.0|\n",
            "|    0.0|\n",
            "|    0.0|\n",
            "|    0.5|\n",
            "|    0.0|\n",
            "|    2.0|\n",
            "|    2.0|\n",
            "|    3.0|\n",
            "|    2.0|\n",
            "|    0.0|\n",
            "|    0.0|\n",
            "|    0.0|\n",
            "|    0.5|\n",
            "|    2.0|\n",
            "|    0.5|\n",
            "|    0.0|\n",
            "|    2.5|\n",
            "+-------+\n",
            "only showing top 20 rows\n",
            "\n"
          ]
        }
      ]
    },
    {
      "cell_type": "code",
      "source": [
        "df_pyspark = df_pyspark.drop('new_col')"
      ],
      "metadata": {
        "id": "8OLeZuI_wdRb"
      },
      "execution_count": 49,
      "outputs": []
    },
    {
      "cell_type": "code",
      "source": [
        "df_pyspark"
      ],
      "metadata": {
        "colab": {
          "base_uri": "https://localhost:8080/"
        },
        "id": "1wRUQuRZyriZ",
        "outputId": "0e6dc03e-a50b-41b2-aaa9-4198e49635c3"
      },
      "execution_count": 51,
      "outputs": [
        {
          "output_type": "execute_result",
          "data": {
            "text/plain": [
              "DataFrame[match_id: int, inning: int, batting_team: string, bowling_team: string, over: int, ball: int, batter: string, bowler: string, non_striker: string, batsman_runs: int, extra_runs: int, total_runs: int, extras_type: string, is_wicket: int, player_dismissed: string, dismissal_kind: string, fielder: string]"
            ]
          },
          "metadata": {},
          "execution_count": 51
        }
      ]
    },
    {
      "cell_type": "code",
      "source": [
        "df_pyspark.withColumnRenamed('match_id','new_match_id').show()"
      ],
      "metadata": {
        "colab": {
          "base_uri": "https://localhost:8080/"
        },
        "id": "TMcfSzWGytRZ",
        "outputId": "8c9496e3-f088-4d73-8d98-0f91bbd693a7"
      },
      "execution_count": 52,
      "outputs": [
        {
          "output_type": "stream",
          "name": "stdout",
          "text": [
            "+------------+------+--------------------+--------------------+----+----+-----------+---------+-----------+------------+----------+----------+-----------+---------+----------------+--------------+-------+\n",
            "|new_match_id|inning|        batting_team|        bowling_team|over|ball|     batter|   bowler|non_striker|batsman_runs|extra_runs|total_runs|extras_type|is_wicket|player_dismissed|dismissal_kind|fielder|\n",
            "+------------+------+--------------------+--------------------+----+----+-----------+---------+-----------+------------+----------+----------+-----------+---------+----------------+--------------+-------+\n",
            "|      335982|     1|Kolkata Knight Ri...|Royal Challengers...|   0|   1| SC Ganguly|  P Kumar|BB McCullum|           0|         1|         1|    legbyes|        0|              NA|            NA|     NA|\n",
            "|      335982|     1|Kolkata Knight Ri...|Royal Challengers...|   0|   2|BB McCullum|  P Kumar| SC Ganguly|           0|         0|         0|       NULL|        0|              NA|            NA|     NA|\n",
            "|      335982|     1|Kolkata Knight Ri...|Royal Challengers...|   0|   3|BB McCullum|  P Kumar| SC Ganguly|           0|         1|         1|      wides|        0|              NA|            NA|     NA|\n",
            "|      335982|     1|Kolkata Knight Ri...|Royal Challengers...|   0|   4|BB McCullum|  P Kumar| SC Ganguly|           0|         0|         0|       NULL|        0|              NA|            NA|     NA|\n",
            "|      335982|     1|Kolkata Knight Ri...|Royal Challengers...|   0|   5|BB McCullum|  P Kumar| SC Ganguly|           0|         0|         0|       NULL|        0|              NA|            NA|     NA|\n",
            "|      335982|     1|Kolkata Knight Ri...|Royal Challengers...|   0|   6|BB McCullum|  P Kumar| SC Ganguly|           0|         0|         0|       NULL|        0|              NA|            NA|     NA|\n",
            "|      335982|     1|Kolkata Knight Ri...|Royal Challengers...|   0|   7|BB McCullum|  P Kumar| SC Ganguly|           0|         1|         1|    legbyes|        0|              NA|            NA|     NA|\n",
            "|      335982|     1|Kolkata Knight Ri...|Royal Challengers...|   1|   1|BB McCullum|   Z Khan| SC Ganguly|           0|         0|         0|       NULL|        0|              NA|            NA|     NA|\n",
            "|      335982|     1|Kolkata Knight Ri...|Royal Challengers...|   1|   2|BB McCullum|   Z Khan| SC Ganguly|           4|         0|         4|       NULL|        0|              NA|            NA|     NA|\n",
            "|      335982|     1|Kolkata Knight Ri...|Royal Challengers...|   1|   3|BB McCullum|   Z Khan| SC Ganguly|           4|         0|         4|       NULL|        0|              NA|            NA|     NA|\n",
            "|      335982|     1|Kolkata Knight Ri...|Royal Challengers...|   1|   4|BB McCullum|   Z Khan| SC Ganguly|           6|         0|         6|       NULL|        0|              NA|            NA|     NA|\n",
            "|      335982|     1|Kolkata Knight Ri...|Royal Challengers...|   1|   5|BB McCullum|   Z Khan| SC Ganguly|           4|         0|         4|       NULL|        0|              NA|            NA|     NA|\n",
            "|      335982|     1|Kolkata Knight Ri...|Royal Challengers...|   1|   6|BB McCullum|   Z Khan| SC Ganguly|           0|         0|         0|       NULL|        0|              NA|            NA|     NA|\n",
            "|      335982|     1|Kolkata Knight Ri...|Royal Challengers...|   2|   1| SC Ganguly|  P Kumar|BB McCullum|           0|         0|         0|       NULL|        0|              NA|            NA|     NA|\n",
            "|      335982|     1|Kolkata Knight Ri...|Royal Challengers...|   2|   2| SC Ganguly|  P Kumar|BB McCullum|           0|         0|         0|       NULL|        0|              NA|            NA|     NA|\n",
            "|      335982|     1|Kolkata Knight Ri...|Royal Challengers...|   2|   3| SC Ganguly|  P Kumar|BB McCullum|           0|         1|         1|    legbyes|        0|              NA|            NA|     NA|\n",
            "|      335982|     1|Kolkata Knight Ri...|Royal Challengers...|   2|   4|BB McCullum|  P Kumar| SC Ganguly|           4|         0|         4|       NULL|        0|              NA|            NA|     NA|\n",
            "|      335982|     1|Kolkata Knight Ri...|Royal Challengers...|   2|   5|BB McCullum|  P Kumar| SC Ganguly|           1|         0|         1|       NULL|        0|              NA|            NA|     NA|\n",
            "|      335982|     1|Kolkata Knight Ri...|Royal Challengers...|   2|   6| SC Ganguly|  P Kumar|BB McCullum|           0|         0|         0|       NULL|        0|              NA|            NA|     NA|\n",
            "|      335982|     1|Kolkata Knight Ri...|Royal Challengers...|   3|   1|BB McCullum|AA Noffke| SC Ganguly|           0|         5|         5|      wides|        0|              NA|            NA|     NA|\n",
            "+------------+------+--------------------+--------------------+----+----+-----------+---------+-----------+------------+----------+----------+-----------+---------+----------------+--------------+-------+\n",
            "only showing top 20 rows\n",
            "\n"
          ]
        }
      ]
    },
    {
      "cell_type": "code",
      "source": [
        "df_pyspark.na.drop().show()"
      ],
      "metadata": {
        "colab": {
          "base_uri": "https://localhost:8080/"
        },
        "id": "VuooEo-9y6R4",
        "outputId": "23d48221-4b0f-45fc-faff-03aad6877efe"
      },
      "execution_count": 53,
      "outputs": [
        {
          "output_type": "stream",
          "name": "stdout",
          "text": [
            "+--------+------+--------------------+--------------------+----+----+-----------+----------+-----------+------------+----------+----------+-----------+---------+----------------+--------------+-------+\n",
            "|match_id|inning|        batting_team|        bowling_team|over|ball|     batter|    bowler|non_striker|batsman_runs|extra_runs|total_runs|extras_type|is_wicket|player_dismissed|dismissal_kind|fielder|\n",
            "+--------+------+--------------------+--------------------+----+----+-----------+----------+-----------+------------+----------+----------+-----------+---------+----------------+--------------+-------+\n",
            "|  335982|     1|Kolkata Knight Ri...|Royal Challengers...|   0|   1| SC Ganguly|   P Kumar|BB McCullum|           0|         1|         1|    legbyes|        0|              NA|            NA|     NA|\n",
            "|  335982|     1|Kolkata Knight Ri...|Royal Challengers...|   0|   3|BB McCullum|   P Kumar| SC Ganguly|           0|         1|         1|      wides|        0|              NA|            NA|     NA|\n",
            "|  335982|     1|Kolkata Knight Ri...|Royal Challengers...|   0|   7|BB McCullum|   P Kumar| SC Ganguly|           0|         1|         1|    legbyes|        0|              NA|            NA|     NA|\n",
            "|  335982|     1|Kolkata Knight Ri...|Royal Challengers...|   2|   3| SC Ganguly|   P Kumar|BB McCullum|           0|         1|         1|    legbyes|        0|              NA|            NA|     NA|\n",
            "|  335982|     1|Kolkata Knight Ri...|Royal Challengers...|   3|   1|BB McCullum| AA Noffke| SC Ganguly|           0|         5|         5|      wides|        0|              NA|            NA|     NA|\n",
            "|  335982|     1|Kolkata Knight Ri...|Royal Challengers...|   3|   3|BB McCullum| AA Noffke| SC Ganguly|           0|         1|         1|    legbyes|        0|              NA|            NA|     NA|\n",
            "|  335982|     1|Kolkata Knight Ri...|Royal Challengers...|  10|   6| RT Ponting| JH Kallis|BB McCullum|           0|         4|         4|       byes|        0|              NA|            NA|     NA|\n",
            "|  335982|     1|Kolkata Knight Ri...|Royal Challengers...|  12|   5|BB McCullum| JH Kallis|  DJ Hussey|           0|         1|         1|      wides|        0|              NA|            NA|     NA|\n",
            "|  335982|     1|Kolkata Knight Ri...|Royal Challengers...|  14|   5|BB McCullum|  CL White|  DJ Hussey|           0|         2|         2|      wides|        0|              NA|            NA|     NA|\n",
            "|  335982|     2|Royal Challengers...|Kolkata Knight Ri...|   0|   2|   W Jaffer|  AB Dinda|   R Dravid|           0|         1|         1|      wides|        0|              NA|            NA|     NA|\n",
            "|  335982|     2|Royal Challengers...|Kolkata Knight Ri...|   1|   3|    V Kohli|  I Sharma|   W Jaffer|           0|         4|         4|    legbyes|        0|              NA|            NA|     NA|\n",
            "|  335982|     2|Royal Challengers...|Kolkata Knight Ri...|   2|   5|   W Jaffer|  AB Dinda|  JH Kallis|           0|         1|         1|      wides|        0|              NA|            NA|     NA|\n",
            "|  335982|     2|Royal Challengers...|Kolkata Knight Ri...|   3|   4|  JH Kallis|  I Sharma|   W Jaffer|           0|         1|         1|    legbyes|        0|              NA|            NA|     NA|\n",
            "|  335982|     2|Royal Challengers...|Kolkata Knight Ri...|   6|   4| MV Boucher|AB Agarkar|   CL White|           0|         1|         1|      wides|        0|              NA|            NA|     NA|\n",
            "|  335982|     2|Royal Challengers...|Kolkata Knight Ri...|   6|   5| MV Boucher|AB Agarkar|   CL White|           0|         1|         1|      wides|        0|              NA|            NA|     NA|\n",
            "|  335982|     2|Royal Challengers...|Kolkata Knight Ri...|   7|   2| MV Boucher|SC Ganguly|   CL White|           0|         1|         1|    legbyes|        0|              NA|            NA|     NA|\n",
            "|  335982|     2|Royal Challengers...|Kolkata Knight Ri...|   8|   4|  AA Noffke|AB Agarkar|   CL White|           0|         1|         1|      wides|        0|              NA|            NA|     NA|\n",
            "|  335982|     2|Royal Challengers...|Kolkata Knight Ri...|   8|   5|  AA Noffke|AB Agarkar|   CL White|           0|         1|         1|      wides|        0|              NA|            NA|     NA|\n",
            "|  335982|     2|Royal Challengers...|Kolkata Knight Ri...|   9|   4|    P Kumar|SC Ganguly|  AA Noffke|           0|         1|         1|      wides|        0|              NA|            NA|     NA|\n",
            "|  335982|     2|Royal Challengers...|Kolkata Knight Ri...|   9|   5|    P Kumar|SC Ganguly|  AA Noffke|           0|         1|         1|    legbyes|        0|              NA|            NA|     NA|\n",
            "+--------+------+--------------------+--------------------+----+----+-----------+----------+-----------+------------+----------+----------+-----------+---------+----------------+--------------+-------+\n",
            "only showing top 20 rows\n",
            "\n"
          ]
        }
      ]
    },
    {
      "cell_type": "code",
      "source": [
        "df_pyspark.na.drop(how='all').show() ## drops when all values are null\n",
        "df_pyspark.na.drop(how='any').show() ## drops when any value is null"
      ],
      "metadata": {
        "colab": {
          "base_uri": "https://localhost:8080/"
        },
        "id": "bnw1HS6J09KI",
        "outputId": "062bbb30-3608-4b7b-a2a6-f7674bb0c823"
      },
      "execution_count": 54,
      "outputs": [
        {
          "output_type": "stream",
          "name": "stdout",
          "text": [
            "+--------+------+--------------------+--------------------+----+----+-----------+---------+-----------+------------+----------+----------+-----------+---------+----------------+--------------+-------+\n",
            "|match_id|inning|        batting_team|        bowling_team|over|ball|     batter|   bowler|non_striker|batsman_runs|extra_runs|total_runs|extras_type|is_wicket|player_dismissed|dismissal_kind|fielder|\n",
            "+--------+------+--------------------+--------------------+----+----+-----------+---------+-----------+------------+----------+----------+-----------+---------+----------------+--------------+-------+\n",
            "|  335982|     1|Kolkata Knight Ri...|Royal Challengers...|   0|   1| SC Ganguly|  P Kumar|BB McCullum|           0|         1|         1|    legbyes|        0|              NA|            NA|     NA|\n",
            "|  335982|     1|Kolkata Knight Ri...|Royal Challengers...|   0|   2|BB McCullum|  P Kumar| SC Ganguly|           0|         0|         0|       NULL|        0|              NA|            NA|     NA|\n",
            "|  335982|     1|Kolkata Knight Ri...|Royal Challengers...|   0|   3|BB McCullum|  P Kumar| SC Ganguly|           0|         1|         1|      wides|        0|              NA|            NA|     NA|\n",
            "|  335982|     1|Kolkata Knight Ri...|Royal Challengers...|   0|   4|BB McCullum|  P Kumar| SC Ganguly|           0|         0|         0|       NULL|        0|              NA|            NA|     NA|\n",
            "|  335982|     1|Kolkata Knight Ri...|Royal Challengers...|   0|   5|BB McCullum|  P Kumar| SC Ganguly|           0|         0|         0|       NULL|        0|              NA|            NA|     NA|\n",
            "|  335982|     1|Kolkata Knight Ri...|Royal Challengers...|   0|   6|BB McCullum|  P Kumar| SC Ganguly|           0|         0|         0|       NULL|        0|              NA|            NA|     NA|\n",
            "|  335982|     1|Kolkata Knight Ri...|Royal Challengers...|   0|   7|BB McCullum|  P Kumar| SC Ganguly|           0|         1|         1|    legbyes|        0|              NA|            NA|     NA|\n",
            "|  335982|     1|Kolkata Knight Ri...|Royal Challengers...|   1|   1|BB McCullum|   Z Khan| SC Ganguly|           0|         0|         0|       NULL|        0|              NA|            NA|     NA|\n",
            "|  335982|     1|Kolkata Knight Ri...|Royal Challengers...|   1|   2|BB McCullum|   Z Khan| SC Ganguly|           4|         0|         4|       NULL|        0|              NA|            NA|     NA|\n",
            "|  335982|     1|Kolkata Knight Ri...|Royal Challengers...|   1|   3|BB McCullum|   Z Khan| SC Ganguly|           4|         0|         4|       NULL|        0|              NA|            NA|     NA|\n",
            "|  335982|     1|Kolkata Knight Ri...|Royal Challengers...|   1|   4|BB McCullum|   Z Khan| SC Ganguly|           6|         0|         6|       NULL|        0|              NA|            NA|     NA|\n",
            "|  335982|     1|Kolkata Knight Ri...|Royal Challengers...|   1|   5|BB McCullum|   Z Khan| SC Ganguly|           4|         0|         4|       NULL|        0|              NA|            NA|     NA|\n",
            "|  335982|     1|Kolkata Knight Ri...|Royal Challengers...|   1|   6|BB McCullum|   Z Khan| SC Ganguly|           0|         0|         0|       NULL|        0|              NA|            NA|     NA|\n",
            "|  335982|     1|Kolkata Knight Ri...|Royal Challengers...|   2|   1| SC Ganguly|  P Kumar|BB McCullum|           0|         0|         0|       NULL|        0|              NA|            NA|     NA|\n",
            "|  335982|     1|Kolkata Knight Ri...|Royal Challengers...|   2|   2| SC Ganguly|  P Kumar|BB McCullum|           0|         0|         0|       NULL|        0|              NA|            NA|     NA|\n",
            "|  335982|     1|Kolkata Knight Ri...|Royal Challengers...|   2|   3| SC Ganguly|  P Kumar|BB McCullum|           0|         1|         1|    legbyes|        0|              NA|            NA|     NA|\n",
            "|  335982|     1|Kolkata Knight Ri...|Royal Challengers...|   2|   4|BB McCullum|  P Kumar| SC Ganguly|           4|         0|         4|       NULL|        0|              NA|            NA|     NA|\n",
            "|  335982|     1|Kolkata Knight Ri...|Royal Challengers...|   2|   5|BB McCullum|  P Kumar| SC Ganguly|           1|         0|         1|       NULL|        0|              NA|            NA|     NA|\n",
            "|  335982|     1|Kolkata Knight Ri...|Royal Challengers...|   2|   6| SC Ganguly|  P Kumar|BB McCullum|           0|         0|         0|       NULL|        0|              NA|            NA|     NA|\n",
            "|  335982|     1|Kolkata Knight Ri...|Royal Challengers...|   3|   1|BB McCullum|AA Noffke| SC Ganguly|           0|         5|         5|      wides|        0|              NA|            NA|     NA|\n",
            "+--------+------+--------------------+--------------------+----+----+-----------+---------+-----------+------------+----------+----------+-----------+---------+----------------+--------------+-------+\n",
            "only showing top 20 rows\n",
            "\n",
            "+--------+------+--------------------+--------------------+----+----+-----------+----------+-----------+------------+----------+----------+-----------+---------+----------------+--------------+-------+\n",
            "|match_id|inning|        batting_team|        bowling_team|over|ball|     batter|    bowler|non_striker|batsman_runs|extra_runs|total_runs|extras_type|is_wicket|player_dismissed|dismissal_kind|fielder|\n",
            "+--------+------+--------------------+--------------------+----+----+-----------+----------+-----------+------------+----------+----------+-----------+---------+----------------+--------------+-------+\n",
            "|  335982|     1|Kolkata Knight Ri...|Royal Challengers...|   0|   1| SC Ganguly|   P Kumar|BB McCullum|           0|         1|         1|    legbyes|        0|              NA|            NA|     NA|\n",
            "|  335982|     1|Kolkata Knight Ri...|Royal Challengers...|   0|   3|BB McCullum|   P Kumar| SC Ganguly|           0|         1|         1|      wides|        0|              NA|            NA|     NA|\n",
            "|  335982|     1|Kolkata Knight Ri...|Royal Challengers...|   0|   7|BB McCullum|   P Kumar| SC Ganguly|           0|         1|         1|    legbyes|        0|              NA|            NA|     NA|\n",
            "|  335982|     1|Kolkata Knight Ri...|Royal Challengers...|   2|   3| SC Ganguly|   P Kumar|BB McCullum|           0|         1|         1|    legbyes|        0|              NA|            NA|     NA|\n",
            "|  335982|     1|Kolkata Knight Ri...|Royal Challengers...|   3|   1|BB McCullum| AA Noffke| SC Ganguly|           0|         5|         5|      wides|        0|              NA|            NA|     NA|\n",
            "|  335982|     1|Kolkata Knight Ri...|Royal Challengers...|   3|   3|BB McCullum| AA Noffke| SC Ganguly|           0|         1|         1|    legbyes|        0|              NA|            NA|     NA|\n",
            "|  335982|     1|Kolkata Knight Ri...|Royal Challengers...|  10|   6| RT Ponting| JH Kallis|BB McCullum|           0|         4|         4|       byes|        0|              NA|            NA|     NA|\n",
            "|  335982|     1|Kolkata Knight Ri...|Royal Challengers...|  12|   5|BB McCullum| JH Kallis|  DJ Hussey|           0|         1|         1|      wides|        0|              NA|            NA|     NA|\n",
            "|  335982|     1|Kolkata Knight Ri...|Royal Challengers...|  14|   5|BB McCullum|  CL White|  DJ Hussey|           0|         2|         2|      wides|        0|              NA|            NA|     NA|\n",
            "|  335982|     2|Royal Challengers...|Kolkata Knight Ri...|   0|   2|   W Jaffer|  AB Dinda|   R Dravid|           0|         1|         1|      wides|        0|              NA|            NA|     NA|\n",
            "|  335982|     2|Royal Challengers...|Kolkata Knight Ri...|   1|   3|    V Kohli|  I Sharma|   W Jaffer|           0|         4|         4|    legbyes|        0|              NA|            NA|     NA|\n",
            "|  335982|     2|Royal Challengers...|Kolkata Knight Ri...|   2|   5|   W Jaffer|  AB Dinda|  JH Kallis|           0|         1|         1|      wides|        0|              NA|            NA|     NA|\n",
            "|  335982|     2|Royal Challengers...|Kolkata Knight Ri...|   3|   4|  JH Kallis|  I Sharma|   W Jaffer|           0|         1|         1|    legbyes|        0|              NA|            NA|     NA|\n",
            "|  335982|     2|Royal Challengers...|Kolkata Knight Ri...|   6|   4| MV Boucher|AB Agarkar|   CL White|           0|         1|         1|      wides|        0|              NA|            NA|     NA|\n",
            "|  335982|     2|Royal Challengers...|Kolkata Knight Ri...|   6|   5| MV Boucher|AB Agarkar|   CL White|           0|         1|         1|      wides|        0|              NA|            NA|     NA|\n",
            "|  335982|     2|Royal Challengers...|Kolkata Knight Ri...|   7|   2| MV Boucher|SC Ganguly|   CL White|           0|         1|         1|    legbyes|        0|              NA|            NA|     NA|\n",
            "|  335982|     2|Royal Challengers...|Kolkata Knight Ri...|   8|   4|  AA Noffke|AB Agarkar|   CL White|           0|         1|         1|      wides|        0|              NA|            NA|     NA|\n",
            "|  335982|     2|Royal Challengers...|Kolkata Knight Ri...|   8|   5|  AA Noffke|AB Agarkar|   CL White|           0|         1|         1|      wides|        0|              NA|            NA|     NA|\n",
            "|  335982|     2|Royal Challengers...|Kolkata Knight Ri...|   9|   4|    P Kumar|SC Ganguly|  AA Noffke|           0|         1|         1|      wides|        0|              NA|            NA|     NA|\n",
            "|  335982|     2|Royal Challengers...|Kolkata Knight Ri...|   9|   5|    P Kumar|SC Ganguly|  AA Noffke|           0|         1|         1|    legbyes|        0|              NA|            NA|     NA|\n",
            "+--------+------+--------------------+--------------------+----+----+-----------+----------+-----------+------------+----------+----------+-----------+---------+----------------+--------------+-------+\n",
            "only showing top 20 rows\n",
            "\n"
          ]
        }
      ]
    },
    {
      "cell_type": "code",
      "source": [
        "df_pyspark.na.drop(how=\"any\",thresh=3).show() ## at least 3 non-null values"
      ],
      "metadata": {
        "colab": {
          "base_uri": "https://localhost:8080/"
        },
        "id": "lq3WH1NU1Weo",
        "outputId": "4cefeba8-5987-4269-f4d2-c4815d6ec959"
      },
      "execution_count": 55,
      "outputs": [
        {
          "output_type": "stream",
          "name": "stdout",
          "text": [
            "+--------+------+--------------------+--------------------+----+----+-----------+---------+-----------+------------+----------+----------+-----------+---------+----------------+--------------+-------+\n",
            "|match_id|inning|        batting_team|        bowling_team|over|ball|     batter|   bowler|non_striker|batsman_runs|extra_runs|total_runs|extras_type|is_wicket|player_dismissed|dismissal_kind|fielder|\n",
            "+--------+------+--------------------+--------------------+----+----+-----------+---------+-----------+------------+----------+----------+-----------+---------+----------------+--------------+-------+\n",
            "|  335982|     1|Kolkata Knight Ri...|Royal Challengers...|   0|   1| SC Ganguly|  P Kumar|BB McCullum|           0|         1|         1|    legbyes|        0|              NA|            NA|     NA|\n",
            "|  335982|     1|Kolkata Knight Ri...|Royal Challengers...|   0|   2|BB McCullum|  P Kumar| SC Ganguly|           0|         0|         0|       NULL|        0|              NA|            NA|     NA|\n",
            "|  335982|     1|Kolkata Knight Ri...|Royal Challengers...|   0|   3|BB McCullum|  P Kumar| SC Ganguly|           0|         1|         1|      wides|        0|              NA|            NA|     NA|\n",
            "|  335982|     1|Kolkata Knight Ri...|Royal Challengers...|   0|   4|BB McCullum|  P Kumar| SC Ganguly|           0|         0|         0|       NULL|        0|              NA|            NA|     NA|\n",
            "|  335982|     1|Kolkata Knight Ri...|Royal Challengers...|   0|   5|BB McCullum|  P Kumar| SC Ganguly|           0|         0|         0|       NULL|        0|              NA|            NA|     NA|\n",
            "|  335982|     1|Kolkata Knight Ri...|Royal Challengers...|   0|   6|BB McCullum|  P Kumar| SC Ganguly|           0|         0|         0|       NULL|        0|              NA|            NA|     NA|\n",
            "|  335982|     1|Kolkata Knight Ri...|Royal Challengers...|   0|   7|BB McCullum|  P Kumar| SC Ganguly|           0|         1|         1|    legbyes|        0|              NA|            NA|     NA|\n",
            "|  335982|     1|Kolkata Knight Ri...|Royal Challengers...|   1|   1|BB McCullum|   Z Khan| SC Ganguly|           0|         0|         0|       NULL|        0|              NA|            NA|     NA|\n",
            "|  335982|     1|Kolkata Knight Ri...|Royal Challengers...|   1|   2|BB McCullum|   Z Khan| SC Ganguly|           4|         0|         4|       NULL|        0|              NA|            NA|     NA|\n",
            "|  335982|     1|Kolkata Knight Ri...|Royal Challengers...|   1|   3|BB McCullum|   Z Khan| SC Ganguly|           4|         0|         4|       NULL|        0|              NA|            NA|     NA|\n",
            "|  335982|     1|Kolkata Knight Ri...|Royal Challengers...|   1|   4|BB McCullum|   Z Khan| SC Ganguly|           6|         0|         6|       NULL|        0|              NA|            NA|     NA|\n",
            "|  335982|     1|Kolkata Knight Ri...|Royal Challengers...|   1|   5|BB McCullum|   Z Khan| SC Ganguly|           4|         0|         4|       NULL|        0|              NA|            NA|     NA|\n",
            "|  335982|     1|Kolkata Knight Ri...|Royal Challengers...|   1|   6|BB McCullum|   Z Khan| SC Ganguly|           0|         0|         0|       NULL|        0|              NA|            NA|     NA|\n",
            "|  335982|     1|Kolkata Knight Ri...|Royal Challengers...|   2|   1| SC Ganguly|  P Kumar|BB McCullum|           0|         0|         0|       NULL|        0|              NA|            NA|     NA|\n",
            "|  335982|     1|Kolkata Knight Ri...|Royal Challengers...|   2|   2| SC Ganguly|  P Kumar|BB McCullum|           0|         0|         0|       NULL|        0|              NA|            NA|     NA|\n",
            "|  335982|     1|Kolkata Knight Ri...|Royal Challengers...|   2|   3| SC Ganguly|  P Kumar|BB McCullum|           0|         1|         1|    legbyes|        0|              NA|            NA|     NA|\n",
            "|  335982|     1|Kolkata Knight Ri...|Royal Challengers...|   2|   4|BB McCullum|  P Kumar| SC Ganguly|           4|         0|         4|       NULL|        0|              NA|            NA|     NA|\n",
            "|  335982|     1|Kolkata Knight Ri...|Royal Challengers...|   2|   5|BB McCullum|  P Kumar| SC Ganguly|           1|         0|         1|       NULL|        0|              NA|            NA|     NA|\n",
            "|  335982|     1|Kolkata Knight Ri...|Royal Challengers...|   2|   6| SC Ganguly|  P Kumar|BB McCullum|           0|         0|         0|       NULL|        0|              NA|            NA|     NA|\n",
            "|  335982|     1|Kolkata Knight Ri...|Royal Challengers...|   3|   1|BB McCullum|AA Noffke| SC Ganguly|           0|         5|         5|      wides|        0|              NA|            NA|     NA|\n",
            "+--------+------+--------------------+--------------------+----+----+-----------+---------+-----------+------------+----------+----------+-----------+---------+----------------+--------------+-------+\n",
            "only showing top 20 rows\n",
            "\n"
          ]
        }
      ]
    },
    {
      "cell_type": "code",
      "source": [
        "df_pyspark.na.drop(how=\"any\",subset=['total_runs']).show() ## drop a specific column"
      ],
      "metadata": {
        "colab": {
          "base_uri": "https://localhost:8080/"
        },
        "id": "wshgsAPj24Op",
        "outputId": "b1e581e3-b181-45f5-aece-d8a8fc1cf57e"
      },
      "execution_count": 56,
      "outputs": [
        {
          "output_type": "stream",
          "name": "stdout",
          "text": [
            "+--------+------+--------------------+--------------------+----+----+-----------+---------+-----------+------------+----------+----------+-----------+---------+----------------+--------------+-------+\n",
            "|match_id|inning|        batting_team|        bowling_team|over|ball|     batter|   bowler|non_striker|batsman_runs|extra_runs|total_runs|extras_type|is_wicket|player_dismissed|dismissal_kind|fielder|\n",
            "+--------+------+--------------------+--------------------+----+----+-----------+---------+-----------+------------+----------+----------+-----------+---------+----------------+--------------+-------+\n",
            "|  335982|     1|Kolkata Knight Ri...|Royal Challengers...|   0|   1| SC Ganguly|  P Kumar|BB McCullum|           0|         1|         1|    legbyes|        0|              NA|            NA|     NA|\n",
            "|  335982|     1|Kolkata Knight Ri...|Royal Challengers...|   0|   2|BB McCullum|  P Kumar| SC Ganguly|           0|         0|         0|       NULL|        0|              NA|            NA|     NA|\n",
            "|  335982|     1|Kolkata Knight Ri...|Royal Challengers...|   0|   3|BB McCullum|  P Kumar| SC Ganguly|           0|         1|         1|      wides|        0|              NA|            NA|     NA|\n",
            "|  335982|     1|Kolkata Knight Ri...|Royal Challengers...|   0|   4|BB McCullum|  P Kumar| SC Ganguly|           0|         0|         0|       NULL|        0|              NA|            NA|     NA|\n",
            "|  335982|     1|Kolkata Knight Ri...|Royal Challengers...|   0|   5|BB McCullum|  P Kumar| SC Ganguly|           0|         0|         0|       NULL|        0|              NA|            NA|     NA|\n",
            "|  335982|     1|Kolkata Knight Ri...|Royal Challengers...|   0|   6|BB McCullum|  P Kumar| SC Ganguly|           0|         0|         0|       NULL|        0|              NA|            NA|     NA|\n",
            "|  335982|     1|Kolkata Knight Ri...|Royal Challengers...|   0|   7|BB McCullum|  P Kumar| SC Ganguly|           0|         1|         1|    legbyes|        0|              NA|            NA|     NA|\n",
            "|  335982|     1|Kolkata Knight Ri...|Royal Challengers...|   1|   1|BB McCullum|   Z Khan| SC Ganguly|           0|         0|         0|       NULL|        0|              NA|            NA|     NA|\n",
            "|  335982|     1|Kolkata Knight Ri...|Royal Challengers...|   1|   2|BB McCullum|   Z Khan| SC Ganguly|           4|         0|         4|       NULL|        0|              NA|            NA|     NA|\n",
            "|  335982|     1|Kolkata Knight Ri...|Royal Challengers...|   1|   3|BB McCullum|   Z Khan| SC Ganguly|           4|         0|         4|       NULL|        0|              NA|            NA|     NA|\n",
            "|  335982|     1|Kolkata Knight Ri...|Royal Challengers...|   1|   4|BB McCullum|   Z Khan| SC Ganguly|           6|         0|         6|       NULL|        0|              NA|            NA|     NA|\n",
            "|  335982|     1|Kolkata Knight Ri...|Royal Challengers...|   1|   5|BB McCullum|   Z Khan| SC Ganguly|           4|         0|         4|       NULL|        0|              NA|            NA|     NA|\n",
            "|  335982|     1|Kolkata Knight Ri...|Royal Challengers...|   1|   6|BB McCullum|   Z Khan| SC Ganguly|           0|         0|         0|       NULL|        0|              NA|            NA|     NA|\n",
            "|  335982|     1|Kolkata Knight Ri...|Royal Challengers...|   2|   1| SC Ganguly|  P Kumar|BB McCullum|           0|         0|         0|       NULL|        0|              NA|            NA|     NA|\n",
            "|  335982|     1|Kolkata Knight Ri...|Royal Challengers...|   2|   2| SC Ganguly|  P Kumar|BB McCullum|           0|         0|         0|       NULL|        0|              NA|            NA|     NA|\n",
            "|  335982|     1|Kolkata Knight Ri...|Royal Challengers...|   2|   3| SC Ganguly|  P Kumar|BB McCullum|           0|         1|         1|    legbyes|        0|              NA|            NA|     NA|\n",
            "|  335982|     1|Kolkata Knight Ri...|Royal Challengers...|   2|   4|BB McCullum|  P Kumar| SC Ganguly|           4|         0|         4|       NULL|        0|              NA|            NA|     NA|\n",
            "|  335982|     1|Kolkata Knight Ri...|Royal Challengers...|   2|   5|BB McCullum|  P Kumar| SC Ganguly|           1|         0|         1|       NULL|        0|              NA|            NA|     NA|\n",
            "|  335982|     1|Kolkata Knight Ri...|Royal Challengers...|   2|   6| SC Ganguly|  P Kumar|BB McCullum|           0|         0|         0|       NULL|        0|              NA|            NA|     NA|\n",
            "|  335982|     1|Kolkata Knight Ri...|Royal Challengers...|   3|   1|BB McCullum|AA Noffke| SC Ganguly|           0|         5|         5|      wides|        0|              NA|            NA|     NA|\n",
            "+--------+------+--------------------+--------------------+----+----+-----------+---------+-----------+------------+----------+----------+-----------+---------+----------------+--------------+-------+\n",
            "only showing top 20 rows\n",
            "\n"
          ]
        }
      ]
    },
    {
      "cell_type": "code",
      "source": [
        "df_pyspark.na.fill('Missing Values',['total_runs']).show()  ## replace nan/null values with Missing Values from total runs column"
      ],
      "metadata": {
        "colab": {
          "base_uri": "https://localhost:8080/"
        },
        "id": "iuJegzyZ2-2I",
        "outputId": "dfea4367-c519-471e-c0f8-f45856e39eb1"
      },
      "execution_count": 57,
      "outputs": [
        {
          "output_type": "stream",
          "name": "stdout",
          "text": [
            "+--------+------+--------------------+--------------------+----+----+-----------+---------+-----------+------------+----------+----------+-----------+---------+----------------+--------------+-------+\n",
            "|match_id|inning|        batting_team|        bowling_team|over|ball|     batter|   bowler|non_striker|batsman_runs|extra_runs|total_runs|extras_type|is_wicket|player_dismissed|dismissal_kind|fielder|\n",
            "+--------+------+--------------------+--------------------+----+----+-----------+---------+-----------+------------+----------+----------+-----------+---------+----------------+--------------+-------+\n",
            "|  335982|     1|Kolkata Knight Ri...|Royal Challengers...|   0|   1| SC Ganguly|  P Kumar|BB McCullum|           0|         1|         1|    legbyes|        0|              NA|            NA|     NA|\n",
            "|  335982|     1|Kolkata Knight Ri...|Royal Challengers...|   0|   2|BB McCullum|  P Kumar| SC Ganguly|           0|         0|         0|       NULL|        0|              NA|            NA|     NA|\n",
            "|  335982|     1|Kolkata Knight Ri...|Royal Challengers...|   0|   3|BB McCullum|  P Kumar| SC Ganguly|           0|         1|         1|      wides|        0|              NA|            NA|     NA|\n",
            "|  335982|     1|Kolkata Knight Ri...|Royal Challengers...|   0|   4|BB McCullum|  P Kumar| SC Ganguly|           0|         0|         0|       NULL|        0|              NA|            NA|     NA|\n",
            "|  335982|     1|Kolkata Knight Ri...|Royal Challengers...|   0|   5|BB McCullum|  P Kumar| SC Ganguly|           0|         0|         0|       NULL|        0|              NA|            NA|     NA|\n",
            "|  335982|     1|Kolkata Knight Ri...|Royal Challengers...|   0|   6|BB McCullum|  P Kumar| SC Ganguly|           0|         0|         0|       NULL|        0|              NA|            NA|     NA|\n",
            "|  335982|     1|Kolkata Knight Ri...|Royal Challengers...|   0|   7|BB McCullum|  P Kumar| SC Ganguly|           0|         1|         1|    legbyes|        0|              NA|            NA|     NA|\n",
            "|  335982|     1|Kolkata Knight Ri...|Royal Challengers...|   1|   1|BB McCullum|   Z Khan| SC Ganguly|           0|         0|         0|       NULL|        0|              NA|            NA|     NA|\n",
            "|  335982|     1|Kolkata Knight Ri...|Royal Challengers...|   1|   2|BB McCullum|   Z Khan| SC Ganguly|           4|         0|         4|       NULL|        0|              NA|            NA|     NA|\n",
            "|  335982|     1|Kolkata Knight Ri...|Royal Challengers...|   1|   3|BB McCullum|   Z Khan| SC Ganguly|           4|         0|         4|       NULL|        0|              NA|            NA|     NA|\n",
            "|  335982|     1|Kolkata Knight Ri...|Royal Challengers...|   1|   4|BB McCullum|   Z Khan| SC Ganguly|           6|         0|         6|       NULL|        0|              NA|            NA|     NA|\n",
            "|  335982|     1|Kolkata Knight Ri...|Royal Challengers...|   1|   5|BB McCullum|   Z Khan| SC Ganguly|           4|         0|         4|       NULL|        0|              NA|            NA|     NA|\n",
            "|  335982|     1|Kolkata Knight Ri...|Royal Challengers...|   1|   6|BB McCullum|   Z Khan| SC Ganguly|           0|         0|         0|       NULL|        0|              NA|            NA|     NA|\n",
            "|  335982|     1|Kolkata Knight Ri...|Royal Challengers...|   2|   1| SC Ganguly|  P Kumar|BB McCullum|           0|         0|         0|       NULL|        0|              NA|            NA|     NA|\n",
            "|  335982|     1|Kolkata Knight Ri...|Royal Challengers...|   2|   2| SC Ganguly|  P Kumar|BB McCullum|           0|         0|         0|       NULL|        0|              NA|            NA|     NA|\n",
            "|  335982|     1|Kolkata Knight Ri...|Royal Challengers...|   2|   3| SC Ganguly|  P Kumar|BB McCullum|           0|         1|         1|    legbyes|        0|              NA|            NA|     NA|\n",
            "|  335982|     1|Kolkata Knight Ri...|Royal Challengers...|   2|   4|BB McCullum|  P Kumar| SC Ganguly|           4|         0|         4|       NULL|        0|              NA|            NA|     NA|\n",
            "|  335982|     1|Kolkata Knight Ri...|Royal Challengers...|   2|   5|BB McCullum|  P Kumar| SC Ganguly|           1|         0|         1|       NULL|        0|              NA|            NA|     NA|\n",
            "|  335982|     1|Kolkata Knight Ri...|Royal Challengers...|   2|   6| SC Ganguly|  P Kumar|BB McCullum|           0|         0|         0|       NULL|        0|              NA|            NA|     NA|\n",
            "|  335982|     1|Kolkata Knight Ri...|Royal Challengers...|   3|   1|BB McCullum|AA Noffke| SC Ganguly|           0|         5|         5|      wides|        0|              NA|            NA|     NA|\n",
            "+--------+------+--------------------+--------------------+----+----+-----------+---------+-----------+------------+----------+----------+-----------+---------+----------------+--------------+-------+\n",
            "only showing top 20 rows\n",
            "\n"
          ]
        }
      ]
    },
    {
      "cell_type": "code",
      "source": [
        "from pyspark.ml.feature import Imputer\n",
        "\n",
        "imputer = Imputer(\n",
        "    inputCols=['total_runs'],\n",
        "    outputCols=[\"{}_imputed\".format(c) for c in ['total_runs']]\n",
        "    ).setStrategy(\"median\")"
      ],
      "metadata": {
        "id": "EeZikS1O3ZGa"
      },
      "execution_count": 60,
      "outputs": []
    },
    {
      "cell_type": "code",
      "source": [
        "imputer.fit(df_pyspark).transform(df_pyspark).show()"
      ],
      "metadata": {
        "colab": {
          "base_uri": "https://localhost:8080/"
        },
        "id": "-IMznntE3rjK",
        "outputId": "46ce1b60-a55d-408a-fa26-13a678ff34d4"
      },
      "execution_count": 61,
      "outputs": [
        {
          "output_type": "stream",
          "name": "stdout",
          "text": [
            "+--------+------+--------------------+--------------------+----+----+-----------+---------+-----------+------------+----------+----------+-----------+---------+----------------+--------------+-------+------------------+\n",
            "|match_id|inning|        batting_team|        bowling_team|over|ball|     batter|   bowler|non_striker|batsman_runs|extra_runs|total_runs|extras_type|is_wicket|player_dismissed|dismissal_kind|fielder|total_runs_imputed|\n",
            "+--------+------+--------------------+--------------------+----+----+-----------+---------+-----------+------------+----------+----------+-----------+---------+----------------+--------------+-------+------------------+\n",
            "|  335982|     1|Kolkata Knight Ri...|Royal Challengers...|   0|   1| SC Ganguly|  P Kumar|BB McCullum|           0|         1|         1|    legbyes|        0|              NA|            NA|     NA|                 1|\n",
            "|  335982|     1|Kolkata Knight Ri...|Royal Challengers...|   0|   2|BB McCullum|  P Kumar| SC Ganguly|           0|         0|         0|       NULL|        0|              NA|            NA|     NA|                 0|\n",
            "|  335982|     1|Kolkata Knight Ri...|Royal Challengers...|   0|   3|BB McCullum|  P Kumar| SC Ganguly|           0|         1|         1|      wides|        0|              NA|            NA|     NA|                 1|\n",
            "|  335982|     1|Kolkata Knight Ri...|Royal Challengers...|   0|   4|BB McCullum|  P Kumar| SC Ganguly|           0|         0|         0|       NULL|        0|              NA|            NA|     NA|                 0|\n",
            "|  335982|     1|Kolkata Knight Ri...|Royal Challengers...|   0|   5|BB McCullum|  P Kumar| SC Ganguly|           0|         0|         0|       NULL|        0|              NA|            NA|     NA|                 0|\n",
            "|  335982|     1|Kolkata Knight Ri...|Royal Challengers...|   0|   6|BB McCullum|  P Kumar| SC Ganguly|           0|         0|         0|       NULL|        0|              NA|            NA|     NA|                 0|\n",
            "|  335982|     1|Kolkata Knight Ri...|Royal Challengers...|   0|   7|BB McCullum|  P Kumar| SC Ganguly|           0|         1|         1|    legbyes|        0|              NA|            NA|     NA|                 1|\n",
            "|  335982|     1|Kolkata Knight Ri...|Royal Challengers...|   1|   1|BB McCullum|   Z Khan| SC Ganguly|           0|         0|         0|       NULL|        0|              NA|            NA|     NA|                 0|\n",
            "|  335982|     1|Kolkata Knight Ri...|Royal Challengers...|   1|   2|BB McCullum|   Z Khan| SC Ganguly|           4|         0|         4|       NULL|        0|              NA|            NA|     NA|                 4|\n",
            "|  335982|     1|Kolkata Knight Ri...|Royal Challengers...|   1|   3|BB McCullum|   Z Khan| SC Ganguly|           4|         0|         4|       NULL|        0|              NA|            NA|     NA|                 4|\n",
            "|  335982|     1|Kolkata Knight Ri...|Royal Challengers...|   1|   4|BB McCullum|   Z Khan| SC Ganguly|           6|         0|         6|       NULL|        0|              NA|            NA|     NA|                 6|\n",
            "|  335982|     1|Kolkata Knight Ri...|Royal Challengers...|   1|   5|BB McCullum|   Z Khan| SC Ganguly|           4|         0|         4|       NULL|        0|              NA|            NA|     NA|                 4|\n",
            "|  335982|     1|Kolkata Knight Ri...|Royal Challengers...|   1|   6|BB McCullum|   Z Khan| SC Ganguly|           0|         0|         0|       NULL|        0|              NA|            NA|     NA|                 0|\n",
            "|  335982|     1|Kolkata Knight Ri...|Royal Challengers...|   2|   1| SC Ganguly|  P Kumar|BB McCullum|           0|         0|         0|       NULL|        0|              NA|            NA|     NA|                 0|\n",
            "|  335982|     1|Kolkata Knight Ri...|Royal Challengers...|   2|   2| SC Ganguly|  P Kumar|BB McCullum|           0|         0|         0|       NULL|        0|              NA|            NA|     NA|                 0|\n",
            "|  335982|     1|Kolkata Knight Ri...|Royal Challengers...|   2|   3| SC Ganguly|  P Kumar|BB McCullum|           0|         1|         1|    legbyes|        0|              NA|            NA|     NA|                 1|\n",
            "|  335982|     1|Kolkata Knight Ri...|Royal Challengers...|   2|   4|BB McCullum|  P Kumar| SC Ganguly|           4|         0|         4|       NULL|        0|              NA|            NA|     NA|                 4|\n",
            "|  335982|     1|Kolkata Knight Ri...|Royal Challengers...|   2|   5|BB McCullum|  P Kumar| SC Ganguly|           1|         0|         1|       NULL|        0|              NA|            NA|     NA|                 1|\n",
            "|  335982|     1|Kolkata Knight Ri...|Royal Challengers...|   2|   6| SC Ganguly|  P Kumar|BB McCullum|           0|         0|         0|       NULL|        0|              NA|            NA|     NA|                 0|\n",
            "|  335982|     1|Kolkata Knight Ri...|Royal Challengers...|   3|   1|BB McCullum|AA Noffke| SC Ganguly|           0|         5|         5|      wides|        0|              NA|            NA|     NA|                 5|\n",
            "+--------+------+--------------------+--------------------+----+----+-----------+---------+-----------+------------+----------+----------+-----------+---------+----------------+--------------+-------+------------------+\n",
            "only showing top 20 rows\n",
            "\n"
          ]
        }
      ]
    },
    {
      "cell_type": "code",
      "source": [
        "## filter operations\n",
        "df_pyspark.filter(\"total_runs<=100\").show()"
      ],
      "metadata": {
        "colab": {
          "base_uri": "https://localhost:8080/"
        },
        "id": "8Leg_Mw73ymP",
        "outputId": "f748bd2f-b4a1-4967-e1b6-cf53649df2e2"
      },
      "execution_count": 62,
      "outputs": [
        {
          "output_type": "stream",
          "name": "stdout",
          "text": [
            "+--------+------+--------------------+--------------------+----+----+-----------+---------+-----------+------------+----------+----------+-----------+---------+----------------+--------------+-------+\n",
            "|match_id|inning|        batting_team|        bowling_team|over|ball|     batter|   bowler|non_striker|batsman_runs|extra_runs|total_runs|extras_type|is_wicket|player_dismissed|dismissal_kind|fielder|\n",
            "+--------+------+--------------------+--------------------+----+----+-----------+---------+-----------+------------+----------+----------+-----------+---------+----------------+--------------+-------+\n",
            "|  335982|     1|Kolkata Knight Ri...|Royal Challengers...|   0|   1| SC Ganguly|  P Kumar|BB McCullum|           0|         1|         1|    legbyes|        0|              NA|            NA|     NA|\n",
            "|  335982|     1|Kolkata Knight Ri...|Royal Challengers...|   0|   2|BB McCullum|  P Kumar| SC Ganguly|           0|         0|         0|       NULL|        0|              NA|            NA|     NA|\n",
            "|  335982|     1|Kolkata Knight Ri...|Royal Challengers...|   0|   3|BB McCullum|  P Kumar| SC Ganguly|           0|         1|         1|      wides|        0|              NA|            NA|     NA|\n",
            "|  335982|     1|Kolkata Knight Ri...|Royal Challengers...|   0|   4|BB McCullum|  P Kumar| SC Ganguly|           0|         0|         0|       NULL|        0|              NA|            NA|     NA|\n",
            "|  335982|     1|Kolkata Knight Ri...|Royal Challengers...|   0|   5|BB McCullum|  P Kumar| SC Ganguly|           0|         0|         0|       NULL|        0|              NA|            NA|     NA|\n",
            "|  335982|     1|Kolkata Knight Ri...|Royal Challengers...|   0|   6|BB McCullum|  P Kumar| SC Ganguly|           0|         0|         0|       NULL|        0|              NA|            NA|     NA|\n",
            "|  335982|     1|Kolkata Knight Ri...|Royal Challengers...|   0|   7|BB McCullum|  P Kumar| SC Ganguly|           0|         1|         1|    legbyes|        0|              NA|            NA|     NA|\n",
            "|  335982|     1|Kolkata Knight Ri...|Royal Challengers...|   1|   1|BB McCullum|   Z Khan| SC Ganguly|           0|         0|         0|       NULL|        0|              NA|            NA|     NA|\n",
            "|  335982|     1|Kolkata Knight Ri...|Royal Challengers...|   1|   2|BB McCullum|   Z Khan| SC Ganguly|           4|         0|         4|       NULL|        0|              NA|            NA|     NA|\n",
            "|  335982|     1|Kolkata Knight Ri...|Royal Challengers...|   1|   3|BB McCullum|   Z Khan| SC Ganguly|           4|         0|         4|       NULL|        0|              NA|            NA|     NA|\n",
            "|  335982|     1|Kolkata Knight Ri...|Royal Challengers...|   1|   4|BB McCullum|   Z Khan| SC Ganguly|           6|         0|         6|       NULL|        0|              NA|            NA|     NA|\n",
            "|  335982|     1|Kolkata Knight Ri...|Royal Challengers...|   1|   5|BB McCullum|   Z Khan| SC Ganguly|           4|         0|         4|       NULL|        0|              NA|            NA|     NA|\n",
            "|  335982|     1|Kolkata Knight Ri...|Royal Challengers...|   1|   6|BB McCullum|   Z Khan| SC Ganguly|           0|         0|         0|       NULL|        0|              NA|            NA|     NA|\n",
            "|  335982|     1|Kolkata Knight Ri...|Royal Challengers...|   2|   1| SC Ganguly|  P Kumar|BB McCullum|           0|         0|         0|       NULL|        0|              NA|            NA|     NA|\n",
            "|  335982|     1|Kolkata Knight Ri...|Royal Challengers...|   2|   2| SC Ganguly|  P Kumar|BB McCullum|           0|         0|         0|       NULL|        0|              NA|            NA|     NA|\n",
            "|  335982|     1|Kolkata Knight Ri...|Royal Challengers...|   2|   3| SC Ganguly|  P Kumar|BB McCullum|           0|         1|         1|    legbyes|        0|              NA|            NA|     NA|\n",
            "|  335982|     1|Kolkata Knight Ri...|Royal Challengers...|   2|   4|BB McCullum|  P Kumar| SC Ganguly|           4|         0|         4|       NULL|        0|              NA|            NA|     NA|\n",
            "|  335982|     1|Kolkata Knight Ri...|Royal Challengers...|   2|   5|BB McCullum|  P Kumar| SC Ganguly|           1|         0|         1|       NULL|        0|              NA|            NA|     NA|\n",
            "|  335982|     1|Kolkata Knight Ri...|Royal Challengers...|   2|   6| SC Ganguly|  P Kumar|BB McCullum|           0|         0|         0|       NULL|        0|              NA|            NA|     NA|\n",
            "|  335982|     1|Kolkata Knight Ri...|Royal Challengers...|   3|   1|BB McCullum|AA Noffke| SC Ganguly|           0|         5|         5|      wides|        0|              NA|            NA|     NA|\n",
            "+--------+------+--------------------+--------------------+----+----+-----------+---------+-----------+------------+----------+----------+-----------+---------+----------------+--------------+-------+\n",
            "only showing top 20 rows\n",
            "\n"
          ]
        }
      ]
    },
    {
      "cell_type": "code",
      "source": [
        "df_pyspark.filter(\"total_runs<=100\").select(['match_id','inning']).show()"
      ],
      "metadata": {
        "colab": {
          "base_uri": "https://localhost:8080/"
        },
        "id": "Xl9TL9F54WFR",
        "outputId": "fb116e11-f7b6-424c-adfe-47a507712e00"
      },
      "execution_count": 63,
      "outputs": [
        {
          "output_type": "stream",
          "name": "stdout",
          "text": [
            "+--------+------+\n",
            "|match_id|inning|\n",
            "+--------+------+\n",
            "|  335982|     1|\n",
            "|  335982|     1|\n",
            "|  335982|     1|\n",
            "|  335982|     1|\n",
            "|  335982|     1|\n",
            "|  335982|     1|\n",
            "|  335982|     1|\n",
            "|  335982|     1|\n",
            "|  335982|     1|\n",
            "|  335982|     1|\n",
            "|  335982|     1|\n",
            "|  335982|     1|\n",
            "|  335982|     1|\n",
            "|  335982|     1|\n",
            "|  335982|     1|\n",
            "|  335982|     1|\n",
            "|  335982|     1|\n",
            "|  335982|     1|\n",
            "|  335982|     1|\n",
            "|  335982|     1|\n",
            "+--------+------+\n",
            "only showing top 20 rows\n",
            "\n"
          ]
        }
      ]
    },
    {
      "cell_type": "code",
      "source": [
        "df_pyspark.filter((df_pyspark['total_runs'] <= 100) &\n",
        "                  (df_pyspark['total_runs'] >= 5)).show()"
      ],
      "metadata": {
        "colab": {
          "base_uri": "https://localhost:8080/"
        },
        "id": "_6vkIMSd4ZFi",
        "outputId": "91795fcd-2620-4fd1-e30b-3560c8d859fd"
      },
      "execution_count": 67,
      "outputs": [
        {
          "output_type": "stream",
          "name": "stdout",
          "text": [
            "+--------+------+--------------------+--------------------+----+----+-----------+----------+---------------+------------+----------+----------+-----------+---------+----------------+--------------+-------+\n",
            "|match_id|inning|        batting_team|        bowling_team|over|ball|     batter|    bowler|    non_striker|batsman_runs|extra_runs|total_runs|extras_type|is_wicket|player_dismissed|dismissal_kind|fielder|\n",
            "+--------+------+--------------------+--------------------+----+----+-----------+----------+---------------+------------+----------+----------+-----------+---------+----------------+--------------+-------+\n",
            "|  335982|     1|Kolkata Knight Ri...|Royal Challengers...|   1|   4|BB McCullum|    Z Khan|     SC Ganguly|           6|         0|         6|       NULL|        0|              NA|            NA|     NA|\n",
            "|  335982|     1|Kolkata Knight Ri...|Royal Challengers...|   3|   1|BB McCullum| AA Noffke|     SC Ganguly|           0|         5|         5|      wides|        0|              NA|            NA|     NA|\n",
            "|  335982|     1|Kolkata Knight Ri...|Royal Challengers...|   3|   2|BB McCullum| AA Noffke|     SC Ganguly|           6|         0|         6|       NULL|        0|              NA|            NA|     NA|\n",
            "|  335982|     1|Kolkata Knight Ri...|Royal Challengers...|   3|   7|BB McCullum| AA Noffke|     SC Ganguly|           6|         0|         6|       NULL|        0|              NA|            NA|     NA|\n",
            "|  335982|     1|Kolkata Knight Ri...|Royal Challengers...|   9|   5|BB McCullum|  SB Joshi|     RT Ponting|           6|         0|         6|       NULL|        0|              NA|            NA|     NA|\n",
            "|  335982|     1|Kolkata Knight Ri...|Royal Challengers...|  10|   4| RT Ponting| JH Kallis|    BB McCullum|           6|         0|         6|       NULL|        0|              NA|            NA|     NA|\n",
            "|  335982|     1|Kolkata Knight Ri...|Royal Challengers...|  11|   2|BB McCullum|  SB Joshi|     RT Ponting|           6|         0|         6|       NULL|        0|              NA|            NA|     NA|\n",
            "|  335982|     1|Kolkata Knight Ri...|Royal Challengers...|  14|   3|BB McCullum|  CL White|      DJ Hussey|           6|         0|         6|       NULL|        0|              NA|            NA|     NA|\n",
            "|  335982|     1|Kolkata Knight Ri...|Royal Challengers...|  14|   7|BB McCullum|  CL White|      DJ Hussey|           6|         0|         6|       NULL|        0|              NA|            NA|     NA|\n",
            "|  335982|     1|Kolkata Knight Ri...|Royal Challengers...|  16|   4|BB McCullum|    Z Khan|      DJ Hussey|           6|         0|         6|       NULL|        0|              NA|            NA|     NA|\n",
            "|  335982|     1|Kolkata Knight Ri...|Royal Challengers...|  18|   1|BB McCullum| JH Kallis|Mohammad Hafeez|           6|         0|         6|       NULL|        0|              NA|            NA|     NA|\n",
            "|  335982|     1|Kolkata Knight Ri...|Royal Challengers...|  18|   3|BB McCullum| JH Kallis|Mohammad Hafeez|           6|         0|         6|       NULL|        0|              NA|            NA|     NA|\n",
            "|  335982|     1|Kolkata Knight Ri...|Royal Challengers...|  19|   1|BB McCullum|   P Kumar|Mohammad Hafeez|           6|         0|         6|       NULL|        0|              NA|            NA|     NA|\n",
            "|  335982|     1|Kolkata Knight Ri...|Royal Challengers...|  19|   2|BB McCullum|   P Kumar|Mohammad Hafeez|           6|         0|         6|       NULL|        0|              NA|            NA|     NA|\n",
            "|  335982|     1|Kolkata Knight Ri...|Royal Challengers...|  19|   6|BB McCullum|   P Kumar|Mohammad Hafeez|           6|         0|         6|       NULL|        0|              NA|            NA|     NA|\n",
            "|  335982|     2|Royal Challengers...|Kolkata Knight Ri...|   4|   4|  JH Kallis|AB Agarkar|       W Jaffer|           6|         0|         6|       NULL|        0|              NA|            NA|     NA|\n",
            "|  335982|     2|Royal Challengers...|Kolkata Knight Ri...|  12|   1|    P Kumar| LR Shukla|         Z Khan|           6|         0|         6|       NULL|        0|              NA|            NA|     NA|\n",
            "|  335982|     2|Royal Challengers...|Kolkata Knight Ri...|  13|   6|    P Kumar|SC Ganguly|       SB Joshi|           6|         0|         6|       NULL|        0|              NA|            NA|     NA|\n",
            "|  335983|     1| Chennai Super Kings|     Kings XI Punjab|   2|   2|  ML Hayden|     B Lee|       PA Patel|           4|         1|         5|    noballs|        0|              NA|            NA|     NA|\n",
            "|  335983|     1| Chennai Super Kings|     Kings XI Punjab|   5|   2|  ML Hayden|  JR Hopes|     MEK Hussey|           6|         0|         6|       NULL|        0|              NA|            NA|     NA|\n",
            "+--------+------+--------------------+--------------------+----+----+-----------+----------+---------------+------------+----------+----------+-----------+---------+----------------+--------------+-------+\n",
            "only showing top 20 rows\n",
            "\n"
          ]
        }
      ]
    },
    {
      "cell_type": "code",
      "source": [
        "## not operation\n",
        "df_pyspark.filter(~(df_pyspark['total_runs'] <= 100)).show()"
      ],
      "metadata": {
        "colab": {
          "base_uri": "https://localhost:8080/"
        },
        "id": "36YBg_Na4iMJ",
        "outputId": "e7c7cf1e-b39c-45b4-8c46-ce6e6c0f0a0b"
      },
      "execution_count": 68,
      "outputs": [
        {
          "output_type": "stream",
          "name": "stdout",
          "text": [
            "+--------+------+------------+------------+----+----+------+------+-----------+------------+----------+----------+-----------+---------+----------------+--------------+-------+\n",
            "|match_id|inning|batting_team|bowling_team|over|ball|batter|bowler|non_striker|batsman_runs|extra_runs|total_runs|extras_type|is_wicket|player_dismissed|dismissal_kind|fielder|\n",
            "+--------+------+------------+------------+----+----+------+------+-----------+------------+----------+----------+-----------+---------+----------------+--------------+-------+\n",
            "+--------+------+------------+------------+----+----+------+------+-----------+------------+----------+----------+-----------+---------+----------------+--------------+-------+\n",
            "\n"
          ]
        }
      ]
    },
    {
      "cell_type": "code",
      "source": [
        "## groupby and agg\n",
        "df_pyspark.groupBy('match_id').sum().show()"
      ],
      "metadata": {
        "colab": {
          "base_uri": "https://localhost:8080/"
        },
        "id": "b0dBuu3r5Fx5",
        "outputId": "e19c270a-9e4d-4eea-9f1d-7a11d005d912"
      },
      "execution_count": 69,
      "outputs": [
        {
          "output_type": "stream",
          "name": "stdout",
          "text": [
            "+--------+-------------+-----------+---------+---------+-----------------+---------------+---------------+--------------+\n",
            "|match_id|sum(match_id)|sum(inning)|sum(over)|sum(ball)|sum(batsman_runs)|sum(extra_runs)|sum(total_runs)|sum(is_wicket)|\n",
            "+--------+-------------+-----------+---------+---------+-----------------+---------------+---------------+--------------+\n",
            "|  501247|    105763117|        293|     1715|      781|              238|             15|            253|            10|\n",
            "|  501269|    120805829|        358|     2264|      857|              285|             10|            295|            13|\n",
            "|  829705|    194980675|        348|     2149|      832|              331|              7|            338|             6|\n",
            "|  980905|    228550865|        342|     2087|      838|              310|             13|            323|            11|\n",
            "|  598045|    142932755|        352|     2173|      871|              335|             15|            350|             8|\n",
            "| 1082608|    265238960|        368|     2341|      876|              323|             14|            337|            13|\n",
            "|  501201|    109261818|        326|     1787|      794|              179|             15|            194|            12|\n",
            "|  548346|    127216272|        349|     2021|      841|              186|             15|            201|            15|\n",
            "|  548351|    136539399|        375|     2391|      904|              222|             17|            239|            15|\n",
            "|  980915|    235419600|        355|     2158|      874|              275|             13|            288|             9|\n",
            "| 1082631|    257666178|        356|     2211|      836|              300|             13|            313|            14|\n",
            "|  419157|    103950936|        370|     2355|      896|              305|             20|            325|            13|\n",
            "|  548317|    132144397|        362|     2282|      851|              357|             10|            367|            16|\n",
            "|  829721|    199133040|        359|     2244|      856|              320|              9|            329|             9|\n",
            "| 1082620|    258746180|        353|     2161|      870|              346|             20|            366|             8|\n",
            "|  501243|    123807021|        369|     2273|      916|              334|             20|            354|            11|\n",
            "|  548378|    134900988|        370|     2323|      882|              288|             18|            306|            12|\n",
            "|  598068|     59806800|        150|      351|      364|              181|              7|            188|             8|\n",
            "|  598071|    144733182|        360|     2299|      865|              257|             10|            267|            13|\n",
            "|  980993|    232495341|        353|     2208|      834|              322|             10|            332|            14|\n",
            "+--------+-------------+-----------+---------+---------+-----------------+---------------+---------------+--------------+\n",
            "only showing top 20 rows\n",
            "\n"
          ]
        }
      ]
    },
    {
      "cell_type": "code",
      "source": [
        "df_pyspark.groupBy('match_id').avg().show()"
      ],
      "metadata": {
        "colab": {
          "base_uri": "https://localhost:8080/"
        },
        "id": "k4qEQ6fW5kUw",
        "outputId": "8e97d214-adca-4e1f-f081-175f8ce78209"
      },
      "execution_count": 70,
      "outputs": [
        {
          "output_type": "stream",
          "name": "stdout",
          "text": [
            "+--------+-------------+------------------+-----------------+------------------+------------------+--------------------+------------------+--------------------+\n",
            "|match_id|avg(match_id)|       avg(inning)|        avg(over)|         avg(ball)| avg(batsman_runs)|     avg(extra_runs)|   avg(total_runs)|      avg(is_wicket)|\n",
            "+--------+-------------+------------------+-----------------+------------------+------------------+--------------------+------------------+--------------------+\n",
            "|  501247|     501247.0|1.3886255924170616|8.127962085308058|3.7014218009478674| 1.127962085308057| 0.07109004739336493|1.1990521327014219| 0.04739336492890995|\n",
            "|  501269|     501269.0|1.4854771784232366|9.394190871369295|3.5560165975103732|1.1825726141078838| 0.04149377593360996|1.2240663900414939| 0.05394190871369295|\n",
            "|  829705|     829705.0|1.4808510638297872| 9.14468085106383|3.5404255319148934|1.4085106382978723|0.029787234042553193|1.4382978723404256| 0.02553191489361702|\n",
            "|  980905|     980905.0|1.4678111587982832|8.957081545064378|  3.59656652360515|1.3304721030042919|0.055793991416309016| 1.386266094420601| 0.04721030042918455|\n",
            "|  598045|     598045.0|1.4728033472803348|9.092050209205022|3.6443514644351462| 1.401673640167364| 0.06276150627615062|1.4644351464435146| 0.03347280334728033|\n",
            "| 1082608|    1082608.0|1.5020408163265306|9.555102040816326|3.5755102040816324|1.3183673469387756| 0.05714285714285714|1.3755102040816327|0.053061224489795916|\n",
            "|  501201|     501201.0|1.4954128440366972|8.197247706422019|3.6422018348623855|0.8211009174311926| 0.06880733944954129|0.8899082568807339| 0.05504587155963303|\n",
            "|  548346|     548346.0|1.5043103448275863|8.711206896551724|             3.625|0.8017241379310345| 0.06465517241379311|0.8663793103448276| 0.06465517241379311|\n",
            "|  548351|     548351.0|1.5060240963855422|9.602409638554217|3.6305220883534135| 0.891566265060241| 0.06827309236947791|0.9598393574297188|0.060240963855421686|\n",
            "|  980915|     980915.0|1.4791666666666667|8.991666666666667|3.6416666666666666|1.1458333333333333| 0.05416666666666667|               1.2|              0.0375|\n",
            "| 1082631|    1082631.0| 1.495798319327731|9.289915966386555|3.5126050420168067|1.2605042016806722|  0.0546218487394958| 1.315126050420168|0.058823529411764705|\n",
            "|  419157|     419157.0|1.4919354838709677|9.495967741935484|3.6129032258064515|1.2298387096774193| 0.08064516129032258| 1.310483870967742| 0.05241935483870968|\n",
            "|  548317|     548317.0|1.5020746887966805|9.468879668049793|3.5311203319502074|1.4813278008298756| 0.04149377593360996|1.5228215767634854| 0.06639004149377593|\n",
            "|  829721|     829721.0|1.4958333333333333|             9.35| 3.566666666666667|1.3333333333333333|              0.0375|1.3708333333333333|              0.0375|\n",
            "| 1082620|    1082620.0|1.4769874476987448|  9.0418410041841|3.6401673640167362|1.4476987447698744| 0.08368200836820083|1.5313807531380754| 0.03347280334728033|\n",
            "|  501243|     501243.0|1.4939271255060729| 9.20242914979757| 3.708502024291498|1.3522267206477734| 0.08097165991902834|1.4331983805668016|0.044534412955465584|\n",
            "|  548378|     548378.0|1.5040650406504066| 9.44308943089431|3.5853658536585367| 1.170731707317073| 0.07317073170731707|1.2439024390243902| 0.04878048780487805|\n",
            "|  598068|     598068.0|               1.5|             3.51|              3.64|              1.81|                0.07|              1.88|                0.08|\n",
            "|  598071|     598071.0| 1.487603305785124|              9.5| 3.574380165289256|  1.06198347107438| 0.04132231404958678| 1.103305785123967| 0.05371900826446281|\n",
            "|  980993|     980993.0| 1.489451476793249|9.316455696202532| 3.518987341772152| 1.358649789029536| 0.04219409282700422|  1.40084388185654| 0.05907172995780591|\n",
            "+--------+-------------+------------------+-----------------+------------------+------------------+--------------------+------------------+--------------------+\n",
            "only showing top 20 rows\n",
            "\n"
          ]
        }
      ]
    },
    {
      "cell_type": "code",
      "source": [],
      "metadata": {
        "id": "TJCyCxsK5nI_"
      },
      "execution_count": null,
      "outputs": []
    }
  ]
}